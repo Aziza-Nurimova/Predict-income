{
  "cells": [
    {
      "cell_type": "markdown",
      "metadata": {
        "id": "3Awk84Od3Z_w"
      },
      "source": [
        "# Predicting a Biological Response"
      ]
    },
    {
      "cell_type": "markdown",
      "metadata": {
        "id": "kSLlqCcS3Uiq"
      },
      "source": [
        "## Оптимизация гиперпараметров модели"
      ]
    },
    {
      "cell_type": "markdown",
      "metadata": {
        "id": "ezanmTbEaAOe"
      },
      "source": [
        "### Описание задачи"
      ]
    },
    {
      "cell_type": "markdown",
      "metadata": {
        "id": "ka8H6Ig538-R"
      },
      "source": [
        "Необходимо предсказать биологический ответ молекул (столбец 'Activity') по их химическому составу (столбцы D1-D1776).\n",
        "\n",
        "*   Первый столбец Activity содержит экспериментальные данные, описывающие фактический биологический ответ [0, 1];\n",
        "*   Остальные столбцы D1-D1776 представляют собой молекулярные **дескрипторы** — это вычисляемые свойства, которые могут фиксировать некоторые характеристики молекулы, например размер, форму или состав элементов.\n",
        "\n",
        "<img src=\"//lms-cdn.skillfactory.ru/assets/courseware/v1/243fdc2d8abf9f176c01a429f1ae68ab/asset-v1:SkillFactory+DSPR-2.0+14JULY2021+type@asset+block/dst-3-ml-7-10.png\">\n",
        "\n",
        "Предварительная обработка не требуется, данные уже закодированы и нормализованы.\n",
        "\n",
        "В качестве метрики будем использовать **F1-score**.\n",
        "\n",
        "Необходимо обучить две модели: **логистическую регрессию и случайный лес**. Далее нужно сделать подбор гиперпараметров с помощью базовых и продвинутых методов оптимизации. Важно использовать все **четыре метода** (GridSeachCV, RandomizedSearchCV, Hyperopt, Optuna) хотя бы по разу, максимальное количество итераций не должно превышать 50.\n",
        "\n",
        "\n"
      ]
    },
    {
      "cell_type": "code",
      "execution_count": 19,
      "metadata": {
        "colab": {
          "base_uri": "https://localhost:8080/"
        },
        "id": "d8q91-MSaAOG",
        "outputId": "0d04ae87-112e-45f5-a34c-cdeaaf236226"
      },
      "outputs": [],
      "source": [
        "#импорт библиотек\n",
        "import numpy as np #для матричных вычислений\n",
        "import pandas as pd #для анализа и предобработки данных\n",
        "import matplotlib.pyplot as plt #для визуализации\n",
        "import seaborn as sns #для визуализации\n",
        "\n",
        "from sklearn import linear_model #линейные моделиё\n",
        "from sklearn import tree #деревья решений\n",
        "from sklearn import ensemble #ансамбли\n",
        "from sklearn import metrics #метрики\n",
        "from sklearn.model_selection import train_test_split #сплитование выборки\n",
        "from sklearn.model_selection import cross_val_score #кросс-валидации\n",
        "\n",
        "%matplotlib inline\n"
      ]
    },
    {
      "cell_type": "code",
      "execution_count": 20,
      "metadata": {
        "colab": {
          "base_uri": "https://localhost:8080/",
          "height": 253
        },
        "id": "wwz5RqAr5AEi",
        "outputId": "fb84c5eb-55c7-4fde-8663-5c8d2b165432"
      },
      "outputs": [
        {
          "data": {
            "text/html": [
              "<div>\n",
              "<style scoped>\n",
              "    .dataframe tbody tr th:only-of-type {\n",
              "        vertical-align: middle;\n",
              "    }\n",
              "\n",
              "    .dataframe tbody tr th {\n",
              "        vertical-align: top;\n",
              "    }\n",
              "\n",
              "    .dataframe thead th {\n",
              "        text-align: right;\n",
              "    }\n",
              "</style>\n",
              "<table border=\"1\" class=\"dataframe\">\n",
              "  <thead>\n",
              "    <tr style=\"text-align: right;\">\n",
              "      <th></th>\n",
              "      <th>Activity</th>\n",
              "      <th>D1</th>\n",
              "      <th>D2</th>\n",
              "      <th>D3</th>\n",
              "      <th>D4</th>\n",
              "      <th>D5</th>\n",
              "      <th>D6</th>\n",
              "      <th>D7</th>\n",
              "      <th>D8</th>\n",
              "      <th>D9</th>\n",
              "      <th>...</th>\n",
              "      <th>D1767</th>\n",
              "      <th>D1768</th>\n",
              "      <th>D1769</th>\n",
              "      <th>D1770</th>\n",
              "      <th>D1771</th>\n",
              "      <th>D1772</th>\n",
              "      <th>D1773</th>\n",
              "      <th>D1774</th>\n",
              "      <th>D1775</th>\n",
              "      <th>D1776</th>\n",
              "    </tr>\n",
              "  </thead>\n",
              "  <tbody>\n",
              "    <tr>\n",
              "      <th>0</th>\n",
              "      <td>1</td>\n",
              "      <td>0.000000</td>\n",
              "      <td>0.497009</td>\n",
              "      <td>0.10</td>\n",
              "      <td>0.0</td>\n",
              "      <td>0.132956</td>\n",
              "      <td>0.678031</td>\n",
              "      <td>0.273166</td>\n",
              "      <td>0.585445</td>\n",
              "      <td>0.743663</td>\n",
              "      <td>...</td>\n",
              "      <td>0</td>\n",
              "      <td>0</td>\n",
              "      <td>0</td>\n",
              "      <td>0</td>\n",
              "      <td>0</td>\n",
              "      <td>0</td>\n",
              "      <td>0</td>\n",
              "      <td>0</td>\n",
              "      <td>0</td>\n",
              "      <td>0</td>\n",
              "    </tr>\n",
              "    <tr>\n",
              "      <th>1</th>\n",
              "      <td>1</td>\n",
              "      <td>0.366667</td>\n",
              "      <td>0.606291</td>\n",
              "      <td>0.05</td>\n",
              "      <td>0.0</td>\n",
              "      <td>0.111209</td>\n",
              "      <td>0.803455</td>\n",
              "      <td>0.106105</td>\n",
              "      <td>0.411754</td>\n",
              "      <td>0.836582</td>\n",
              "      <td>...</td>\n",
              "      <td>1</td>\n",
              "      <td>1</td>\n",
              "      <td>1</td>\n",
              "      <td>1</td>\n",
              "      <td>0</td>\n",
              "      <td>1</td>\n",
              "      <td>0</td>\n",
              "      <td>0</td>\n",
              "      <td>1</td>\n",
              "      <td>0</td>\n",
              "    </tr>\n",
              "    <tr>\n",
              "      <th>2</th>\n",
              "      <td>1</td>\n",
              "      <td>0.033300</td>\n",
              "      <td>0.480124</td>\n",
              "      <td>0.00</td>\n",
              "      <td>0.0</td>\n",
              "      <td>0.209791</td>\n",
              "      <td>0.610350</td>\n",
              "      <td>0.356453</td>\n",
              "      <td>0.517720</td>\n",
              "      <td>0.679051</td>\n",
              "      <td>...</td>\n",
              "      <td>0</td>\n",
              "      <td>0</td>\n",
              "      <td>0</td>\n",
              "      <td>0</td>\n",
              "      <td>0</td>\n",
              "      <td>0</td>\n",
              "      <td>0</td>\n",
              "      <td>0</td>\n",
              "      <td>0</td>\n",
              "      <td>0</td>\n",
              "    </tr>\n",
              "    <tr>\n",
              "      <th>3</th>\n",
              "      <td>1</td>\n",
              "      <td>0.000000</td>\n",
              "      <td>0.538825</td>\n",
              "      <td>0.00</td>\n",
              "      <td>0.5</td>\n",
              "      <td>0.196344</td>\n",
              "      <td>0.724230</td>\n",
              "      <td>0.235606</td>\n",
              "      <td>0.288764</td>\n",
              "      <td>0.805110</td>\n",
              "      <td>...</td>\n",
              "      <td>0</td>\n",
              "      <td>0</td>\n",
              "      <td>0</td>\n",
              "      <td>0</td>\n",
              "      <td>0</td>\n",
              "      <td>0</td>\n",
              "      <td>0</td>\n",
              "      <td>0</td>\n",
              "      <td>0</td>\n",
              "      <td>0</td>\n",
              "    </tr>\n",
              "    <tr>\n",
              "      <th>4</th>\n",
              "      <td>0</td>\n",
              "      <td>0.100000</td>\n",
              "      <td>0.517794</td>\n",
              "      <td>0.00</td>\n",
              "      <td>0.0</td>\n",
              "      <td>0.494734</td>\n",
              "      <td>0.781422</td>\n",
              "      <td>0.154361</td>\n",
              "      <td>0.303809</td>\n",
              "      <td>0.812646</td>\n",
              "      <td>...</td>\n",
              "      <td>0</td>\n",
              "      <td>0</td>\n",
              "      <td>0</td>\n",
              "      <td>0</td>\n",
              "      <td>0</td>\n",
              "      <td>0</td>\n",
              "      <td>0</td>\n",
              "      <td>0</td>\n",
              "      <td>0</td>\n",
              "      <td>0</td>\n",
              "    </tr>\n",
              "  </tbody>\n",
              "</table>\n",
              "<p>5 rows × 1777 columns</p>\n",
              "</div>"
            ],
            "text/plain": [
              "   Activity        D1        D2    D3   D4        D5        D6        D7  \\\n",
              "0         1  0.000000  0.497009  0.10  0.0  0.132956  0.678031  0.273166   \n",
              "1         1  0.366667  0.606291  0.05  0.0  0.111209  0.803455  0.106105   \n",
              "2         1  0.033300  0.480124  0.00  0.0  0.209791  0.610350  0.356453   \n",
              "3         1  0.000000  0.538825  0.00  0.5  0.196344  0.724230  0.235606   \n",
              "4         0  0.100000  0.517794  0.00  0.0  0.494734  0.781422  0.154361   \n",
              "\n",
              "         D8        D9  ...  D1767  D1768  D1769  D1770  D1771  D1772  D1773  \\\n",
              "0  0.585445  0.743663  ...      0      0      0      0      0      0      0   \n",
              "1  0.411754  0.836582  ...      1      1      1      1      0      1      0   \n",
              "2  0.517720  0.679051  ...      0      0      0      0      0      0      0   \n",
              "3  0.288764  0.805110  ...      0      0      0      0      0      0      0   \n",
              "4  0.303809  0.812646  ...      0      0      0      0      0      0      0   \n",
              "\n",
              "   D1774  D1775  D1776  \n",
              "0      0      0      0  \n",
              "1      0      1      0  \n",
              "2      0      0      0  \n",
              "3      0      0      0  \n",
              "4      0      0      0  \n",
              "\n",
              "[5 rows x 1777 columns]"
            ]
          },
          "metadata": {},
          "output_type": "display_data"
        },
        {
          "name": "stdout",
          "output_type": "stream",
          "text": [
            "(3751, 1777)\n"
          ]
        }
      ],
      "source": [
        "# загружаем файл\n",
        "data = pd.read_csv(r'C:\\Users\\Mira\\Desktop\\ML-7. Оптимизация гиперпараметров модели\\Практика\\_train_sem.csv')\n",
        "display(data.head())\n",
        "print(data.shape)"
      ]
    },
    {
      "cell_type": "markdown",
      "metadata": {
        "id": "8KfmVmGaDsjE"
      },
      "source": []
    },
    {
      "cell_type": "markdown",
      "metadata": {
        "id": "FuvVHihwEwrd"
      },
      "source": [
        "### Разделение датасета на матрицу данных и целевой признак, а также сплитование на тренировочный и тестовый наборы"
      ]
    },
    {
      "cell_type": "code",
      "execution_count": 21,
      "metadata": {
        "id": "1Ccl2gjlFaKl"
      },
      "outputs": [],
      "source": [
        "y = data['Activity']\n",
        "X = data.drop('Activity', axis = 1)\n",
        "# Сплитование на тренировочные и тестовые выборки\n",
        "X_train, X_test, y_train, y_test = train_test_split(X, y, random_state = 1, test_size = 0.2)"
      ]
    },
    {
      "cell_type": "markdown",
      "metadata": {
        "id": "my0TJKh2DyB1"
      },
      "source": [
        "### Логистическая регрессия"
      ]
    },
    {
      "cell_type": "code",
      "execution_count": 22,
      "metadata": {
        "colab": {
          "base_uri": "https://localhost:8080/"
        },
        "id": "an1ssh2jC40v",
        "outputId": "dd3cee90-7caa-4923-a454-39d69e194414"
      },
      "outputs": [
        {
          "name": "stdout",
          "output_type": "stream",
          "text": [
            "accuracy на тестовой выборке: 0.75\n",
            "f1-score на тестовой выборке: 0.78\n"
          ]
        }
      ],
      "source": [
        "# Создаём объект класса логистическая регрессия\n",
        "log_reg = linear_model.LogisticRegression(random_state = 42, max_iter=1000)\n",
        "# Обучаем модель\n",
        "log_reg.fit(X_train, y_train)\n",
        "y_test_pred = log_reg.predict(X_test)\n",
        "print('accuracy на тестовой выборке: {:.2f}'.format(log_reg.score(X_test, y_test)))\n",
        "print('f1-score на тестовой выборке: {:.2f}'.format(metrics.f1_score(y_test, y_test_pred)))"
      ]
    },
    {
      "cell_type": "markdown",
      "metadata": {
        "id": "ZgpMy66mMtBL"
      },
      "source": [
        "#### **GridSearchCV**"
      ]
    },
    {
      "cell_type": "code",
      "execution_count": 23,
      "metadata": {
        "colab": {
          "base_uri": "https://localhost:8080/"
        },
        "id": "cmsVHguSMslI",
        "outputId": "1012a322-9590-46c8-ea6e-4419c73fe1bf"
      },
      "outputs": [
        {
          "name": "stderr",
          "output_type": "stream",
          "text": [
            "c:\\Users\\Mira\\Desktop\\Блок 3. Разведывательный анализ\\Соревнование на Kaggle\\Git_Hub\\.venv\\lib\\site-packages\\sklearn\\model_selection\\_validation.py:547: FitFailedWarning: \n",
            "60 fits failed out of a total of 120.\n",
            "The score on these train-test partitions for these parameters will be set to nan.\n",
            "If these failures are not expected, you can try to debug them by setting error_score='raise'.\n",
            "\n",
            "Below are more details about the failures:\n",
            "--------------------------------------------------------------------------------\n",
            "8 fits failed with the following error:\n",
            "Traceback (most recent call last):\n",
            "  File \"c:\\Users\\Mira\\Desktop\\Блок 3. Разведывательный анализ\\Соревнование на Kaggle\\Git_Hub\\.venv\\lib\\site-packages\\sklearn\\model_selection\\_validation.py\", line 895, in _fit_and_score\n",
            "    estimator.fit(X_train, y_train, **fit_params)\n",
            "  File \"c:\\Users\\Mira\\Desktop\\Блок 3. Разведывательный анализ\\Соревнование на Kaggle\\Git_Hub\\.venv\\lib\\site-packages\\sklearn\\base.py\", line 1467, in wrapper\n",
            "    estimator._validate_params()\n",
            "  File \"c:\\Users\\Mira\\Desktop\\Блок 3. Разведывательный анализ\\Соревнование на Kaggle\\Git_Hub\\.venv\\lib\\site-packages\\sklearn\\base.py\", line 666, in _validate_params\n",
            "    validate_parameter_constraints(\n",
            "  File \"c:\\Users\\Mira\\Desktop\\Блок 3. Разведывательный анализ\\Соревнование на Kaggle\\Git_Hub\\.venv\\lib\\site-packages\\sklearn\\utils\\_param_validation.py\", line 95, in validate_parameter_constraints\n",
            "    raise InvalidParameterError(\n",
            "sklearn.utils._param_validation.InvalidParameterError: The 'penalty' parameter of LogisticRegression must be a str among {'l1', 'l2', 'elasticnet'} or None. Got 'none' instead.\n",
            "\n",
            "--------------------------------------------------------------------------------\n",
            "18 fits failed with the following error:\n",
            "Traceback (most recent call last):\n",
            "  File \"c:\\Users\\Mira\\Desktop\\Блок 3. Разведывательный анализ\\Соревнование на Kaggle\\Git_Hub\\.venv\\lib\\site-packages\\sklearn\\model_selection\\_validation.py\", line 895, in _fit_and_score\n",
            "    estimator.fit(X_train, y_train, **fit_params)\n",
            "  File \"c:\\Users\\Mira\\Desktop\\Блок 3. Разведывательный анализ\\Соревнование на Kaggle\\Git_Hub\\.venv\\lib\\site-packages\\sklearn\\base.py\", line 1467, in wrapper\n",
            "    estimator._validate_params()\n",
            "  File \"c:\\Users\\Mira\\Desktop\\Блок 3. Разведывательный анализ\\Соревнование на Kaggle\\Git_Hub\\.venv\\lib\\site-packages\\sklearn\\base.py\", line 666, in _validate_params\n",
            "    validate_parameter_constraints(\n",
            "  File \"c:\\Users\\Mira\\Desktop\\Блок 3. Разведывательный анализ\\Соревнование на Kaggle\\Git_Hub\\.venv\\lib\\site-packages\\sklearn\\utils\\_param_validation.py\", line 95, in validate_parameter_constraints\n",
            "    raise InvalidParameterError(\n",
            "sklearn.utils._param_validation.InvalidParameterError: The 'penalty' parameter of LogisticRegression must be a str among {'l1', 'elasticnet', 'l2'} or None. Got 'none' instead.\n",
            "\n",
            "--------------------------------------------------------------------------------\n",
            "14 fits failed with the following error:\n",
            "Traceback (most recent call last):\n",
            "  File \"c:\\Users\\Mira\\Desktop\\Блок 3. Разведывательный анализ\\Соревнование на Kaggle\\Git_Hub\\.venv\\lib\\site-packages\\sklearn\\model_selection\\_validation.py\", line 895, in _fit_and_score\n",
            "    estimator.fit(X_train, y_train, **fit_params)\n",
            "  File \"c:\\Users\\Mira\\Desktop\\Блок 3. Разведывательный анализ\\Соревнование на Kaggle\\Git_Hub\\.venv\\lib\\site-packages\\sklearn\\base.py\", line 1467, in wrapper\n",
            "    estimator._validate_params()\n",
            "  File \"c:\\Users\\Mira\\Desktop\\Блок 3. Разведывательный анализ\\Соревнование на Kaggle\\Git_Hub\\.venv\\lib\\site-packages\\sklearn\\base.py\", line 666, in _validate_params\n",
            "    validate_parameter_constraints(\n",
            "  File \"c:\\Users\\Mira\\Desktop\\Блок 3. Разведывательный анализ\\Соревнование на Kaggle\\Git_Hub\\.venv\\lib\\site-packages\\sklearn\\utils\\_param_validation.py\", line 95, in validate_parameter_constraints\n",
            "    raise InvalidParameterError(\n",
            "sklearn.utils._param_validation.InvalidParameterError: The 'penalty' parameter of LogisticRegression must be a str among {'l2', 'l1', 'elasticnet'} or None. Got 'none' instead.\n",
            "\n",
            "--------------------------------------------------------------------------------\n",
            "20 fits failed with the following error:\n",
            "Traceback (most recent call last):\n",
            "  File \"c:\\Users\\Mira\\Desktop\\Блок 3. Разведывательный анализ\\Соревнование на Kaggle\\Git_Hub\\.venv\\lib\\site-packages\\sklearn\\model_selection\\_validation.py\", line 895, in _fit_and_score\n",
            "    estimator.fit(X_train, y_train, **fit_params)\n",
            "  File \"c:\\Users\\Mira\\Desktop\\Блок 3. Разведывательный анализ\\Соревнование на Kaggle\\Git_Hub\\.venv\\lib\\site-packages\\sklearn\\base.py\", line 1467, in wrapper\n",
            "    estimator._validate_params()\n",
            "  File \"c:\\Users\\Mira\\Desktop\\Блок 3. Разведывательный анализ\\Соревнование на Kaggle\\Git_Hub\\.venv\\lib\\site-packages\\sklearn\\base.py\", line 666, in _validate_params\n",
            "    validate_parameter_constraints(\n",
            "  File \"c:\\Users\\Mira\\Desktop\\Блок 3. Разведывательный анализ\\Соревнование на Kaggle\\Git_Hub\\.venv\\lib\\site-packages\\sklearn\\utils\\_param_validation.py\", line 95, in validate_parameter_constraints\n",
            "    raise InvalidParameterError(\n",
            "sklearn.utils._param_validation.InvalidParameterError: The 'penalty' parameter of LogisticRegression must be a str among {'l2', 'elasticnet', 'l1'} or None. Got 'none' instead.\n",
            "\n",
            "  warnings.warn(some_fits_failed_message, FitFailedWarning)\n",
            "c:\\Users\\Mira\\Desktop\\Блок 3. Разведывательный анализ\\Соревнование на Kaggle\\Git_Hub\\.venv\\lib\\site-packages\\sklearn\\model_selection\\_search.py:1051: UserWarning: One or more of the test scores are non-finite: [0.761      0.75966667        nan        nan 0.76633333 0.76533333\n",
            "        nan        nan 0.76       0.75933333        nan        nan\n",
            " 0.75833333 0.75866667        nan        nan 0.758      0.758\n",
            "        nan        nan 0.755      0.75766667        nan        nan]\n",
            "  warnings.warn(\n"
          ]
        },
        {
          "name": "stdout",
          "output_type": "stream",
          "text": [
            "CPU times: total: 641 ms\n",
            "Wall time: 1min 42s\n",
            "accuracy на тестовом наборе: 0.78\n",
            "f1_score на тестовом наборе: 0.80\n",
            "Наилучшие значения параметров: {'C': 0.1, 'penalty': 'l2', 'solver': 'lbfgs'}\n"
          ]
        }
      ],
      "source": [
        "# Импортируем бибилиотеку GridSearchCV\n",
        "from sklearn.model_selection import GridSearchCV\n",
        "\n",
        "# задаём искомые гиперпараметры в виде словаря:\n",
        "# ключами словаря являются имена настраиваемых гиперпараметров,\n",
        "# а значениями – тестируемые настройки гиперпараметров\n",
        "param_grid = {'penalty': ['l2', 'none'], #тип регуляризации\n",
        "              'solver': ['lbfgs', 'saga'],  #алгоритм оптимизации\n",
        "              'C': [0.01, 0.1, 0.3, 0.5, 0.7, 0.9]} # уровень силы регурялизации\n",
        "\n",
        "\n",
        "# создаём объект класса GridSearchCV\n",
        "grid_search = GridSearchCV(\n",
        "    estimator=linear_model.LogisticRegression(\n",
        "        random_state = 42,\n",
        "        max_iter = 1000),\n",
        "    param_grid = param_grid,\n",
        "    cv = 5,\n",
        "    n_jobs = -1\n",
        ")\n",
        "# обучаем модель на всех фолдах со всеми комбинациями по сетке\n",
        "%time grid_search.fit(X_train, y_train)\n",
        "\n",
        "# считаем метрикиб вызываем наилучшие значения гиперпараметров и выводим их на экран\n",
        "print('accuracy на тестовом наборе: {:.2f}'.format(grid_search.score(X_test, y_test)))\n",
        "y_test_pred = grid_search.predict(X_test)\n",
        "print('f1_score на тестовом наборе: {:.2f}'.format(metrics.f1_score(y_test, y_test_pred)))\n",
        "print('Наилучшие значения параметров: {}'.format(grid_search.best_params_))"
      ]
    },
    {
      "cell_type": "markdown",
      "metadata": {
        "id": "sP3nqrLoYXHW"
      },
      "source": [
        "Посмотрим на итоговую полученную модель  на наилучшее значение точности кросс-валидации с помощью методов best_estimator_ и best_score_."
      ]
    },
    {
      "cell_type": "code",
      "execution_count": 24,
      "metadata": {
        "colab": {
          "base_uri": "https://localhost:8080/"
        },
        "id": "KpDJ3leAYVCD",
        "outputId": "d33beae5-62e3-42b6-ea28-cca32b01b9be"
      },
      "outputs": [
        {
          "name": "stdout",
          "output_type": "stream",
          "text": [
            "Наилучшаая модель:\n",
            "LogisticRegression(C=0.1, max_iter=1000, random_state=42)\n",
            "Наилучшее значение точности при кросс-валидаци: 0.77\n"
          ]
        }
      ],
      "source": [
        "print('Наилучшаая модель:\\n{}'.format(grid_search.best_estimator_))\n",
        "print('Наилучшее значение точности при кросс-валидаци: {:.2f}'.format(grid_search.best_score_))"
      ]
    },
    {
      "cell_type": "markdown",
      "metadata": {
        "id": "3mQSc8VZukaV"
      },
      "source": [
        "Постмотрим на таблицу результатов при кросс-валидации с помощью метода cv_results_"
      ]
    },
    {
      "cell_type": "code",
      "execution_count": 25,
      "metadata": {
        "colab": {
          "base_uri": "https://localhost:8080/",
          "height": 306
        },
        "id": "po-FncH8Zqf-",
        "outputId": "95d7973f-e24e-45e5-c808-c4b4972725a8"
      },
      "outputs": [
        {
          "data": {
            "text/html": [
              "<div>\n",
              "<style scoped>\n",
              "    .dataframe tbody tr th:only-of-type {\n",
              "        vertical-align: middle;\n",
              "    }\n",
              "\n",
              "    .dataframe tbody tr th {\n",
              "        vertical-align: top;\n",
              "    }\n",
              "\n",
              "    .dataframe thead th {\n",
              "        text-align: right;\n",
              "    }\n",
              "</style>\n",
              "<table border=\"1\" class=\"dataframe\">\n",
              "  <thead>\n",
              "    <tr style=\"text-align: right;\">\n",
              "      <th></th>\n",
              "      <th>mean_fit_time</th>\n",
              "      <th>std_fit_time</th>\n",
              "      <th>mean_score_time</th>\n",
              "      <th>std_score_time</th>\n",
              "      <th>param_C</th>\n",
              "      <th>param_penalty</th>\n",
              "      <th>param_solver</th>\n",
              "      <th>params</th>\n",
              "      <th>split0_test_score</th>\n",
              "      <th>split1_test_score</th>\n",
              "      <th>split2_test_score</th>\n",
              "      <th>split3_test_score</th>\n",
              "      <th>split4_test_score</th>\n",
              "      <th>mean_test_score</th>\n",
              "      <th>std_test_score</th>\n",
              "      <th>rank_test_score</th>\n",
              "    </tr>\n",
              "  </thead>\n",
              "  <tbody>\n",
              "    <tr>\n",
              "      <th>0</th>\n",
              "      <td>0.540435</td>\n",
              "      <td>0.014962</td>\n",
              "      <td>0.019585</td>\n",
              "      <td>0.002896</td>\n",
              "      <td>0.01</td>\n",
              "      <td>l2</td>\n",
              "      <td>lbfgs</td>\n",
              "      <td>{'C': 0.01, 'penalty': 'l2', 'solver': 'lbfgs'}</td>\n",
              "      <td>0.748333</td>\n",
              "      <td>0.791667</td>\n",
              "      <td>0.745000</td>\n",
              "      <td>0.771667</td>\n",
              "      <td>0.748333</td>\n",
              "      <td>0.761000</td>\n",
              "      <td>0.018062</td>\n",
              "      <td>3</td>\n",
              "    </tr>\n",
              "    <tr>\n",
              "      <th>1</th>\n",
              "      <td>8.357001</td>\n",
              "      <td>0.454684</td>\n",
              "      <td>0.015019</td>\n",
              "      <td>0.003703</td>\n",
              "      <td>0.01</td>\n",
              "      <td>l2</td>\n",
              "      <td>saga</td>\n",
              "      <td>{'C': 0.01, 'penalty': 'l2', 'solver': 'saga'}</td>\n",
              "      <td>0.741667</td>\n",
              "      <td>0.791667</td>\n",
              "      <td>0.746667</td>\n",
              "      <td>0.770000</td>\n",
              "      <td>0.748333</td>\n",
              "      <td>0.759667</td>\n",
              "      <td>0.018720</td>\n",
              "      <td>5</td>\n",
              "    </tr>\n",
              "  </tbody>\n",
              "</table>\n",
              "</div>"
            ],
            "text/plain": [
              "   mean_fit_time  std_fit_time  mean_score_time  std_score_time param_C  \\\n",
              "0       0.540435      0.014962         0.019585        0.002896    0.01   \n",
              "1       8.357001      0.454684         0.015019        0.003703    0.01   \n",
              "\n",
              "  param_penalty param_solver                                           params  \\\n",
              "0            l2        lbfgs  {'C': 0.01, 'penalty': 'l2', 'solver': 'lbfgs'}   \n",
              "1            l2         saga   {'C': 0.01, 'penalty': 'l2', 'solver': 'saga'}   \n",
              "\n",
              "   split0_test_score  split1_test_score  split2_test_score  split3_test_score  \\\n",
              "0           0.748333           0.791667           0.745000           0.771667   \n",
              "1           0.741667           0.791667           0.746667           0.770000   \n",
              "\n",
              "   split4_test_score  mean_test_score  std_test_score  rank_test_score  \n",
              "0           0.748333         0.761000        0.018062                3  \n",
              "1           0.748333         0.759667        0.018720                5  "
            ]
          },
          "execution_count": 25,
          "metadata": {},
          "output_type": "execute_result"
        }
      ],
      "source": [
        "result_cv = pd.DataFrame(grid_search.cv_results_)\n",
        "result_cv.head(2)"
      ]
    },
    {
      "cell_type": "markdown",
      "metadata": {
        "id": "3c8rl75naJrr"
      },
      "source": [
        "Посмотрим на тепловой карте, как менялась точность при различных гиперпараметрах"
      ]
    },
    {
      "cell_type": "code",
      "execution_count": 26,
      "metadata": {
        "colab": {
          "base_uri": "https://localhost:8080/",
          "height": 528
        },
        "id": "0yg6VnitaPJo",
        "outputId": "a9b2abde-9307-4deb-e3c4-e29da2bc23ca"
      },
      "outputs": [
        {
          "data": {
            "image/png": "[encoded data removed]",
            "text/plain": [
              "<Figure size 640x480 with 2 Axes>"
            ]
          },
          "metadata": {},
          "output_type": "display_data"
        }
      ],
      "source": [
        "visual = pd.pivot_table(result_cv,\n",
        "                        values = 'mean_test_score',\n",
        "                        index = 'param_C',\n",
        "                        columns = 'param_solver')\n",
        "sns.heatmap(visual)\n",
        "plt.title('Тепловая карта зависимости метрики accuracy от solver и С') # подпись графика\n",
        "sns.set(rc={'figure.figsize': (8, 4)})  # задаём размер графика"
      ]
    },
    {
      "cell_type": "markdown",
      "metadata": {
        "id": "bRnIWa02vVSP"
      },
      "source": [
        "По графику можно отметить, что при значении lbfgs параметра solver  для accuracy влияет негативно. Также видно, что нааиболее подходящяя сила регуляризации 0.01."
      ]
    },
    {
      "cell_type": "markdown",
      "metadata": {
        "id": "GZ0SsGeTcFRm"
      },
      "source": [
        "#### **RandomizedSearchCV**"
      ]
    },
    {
      "cell_type": "code",
      "execution_count": 27,
      "metadata": {
        "colab": {
          "base_uri": "https://localhost:8080/"
        },
        "id": "R01JblqBcSEp",
        "outputId": "16ec10d3-a8e8-44cc-ac9d-ac3352fa0d94"
      },
      "outputs": [
        {
          "name": "stderr",
          "output_type": "stream",
          "text": [
            "c:\\Users\\Mira\\Desktop\\Блок 3. Разведывательный анализ\\Соревнование на Kaggle\\Git_Hub\\.venv\\lib\\site-packages\\sklearn\\model_selection\\_validation.py:547: FitFailedWarning: \n",
            "25 fits failed out of a total of 50.\n",
            "The score on these train-test partitions for these parameters will be set to nan.\n",
            "If these failures are not expected, you can try to debug them by setting error_score='raise'.\n",
            "\n",
            "Below are more details about the failures:\n",
            "--------------------------------------------------------------------------------\n",
            "2 fits failed with the following error:\n",
            "Traceback (most recent call last):\n",
            "  File \"c:\\Users\\Mira\\Desktop\\Блок 3. Разведывательный анализ\\Соревнование на Kaggle\\Git_Hub\\.venv\\lib\\site-packages\\sklearn\\model_selection\\_validation.py\", line 895, in _fit_and_score\n",
            "    estimator.fit(X_train, y_train, **fit_params)\n",
            "  File \"c:\\Users\\Mira\\Desktop\\Блок 3. Разведывательный анализ\\Соревнование на Kaggle\\Git_Hub\\.venv\\lib\\site-packages\\sklearn\\base.py\", line 1467, in wrapper\n",
            "    estimator._validate_params()\n",
            "  File \"c:\\Users\\Mira\\Desktop\\Блок 3. Разведывательный анализ\\Соревнование на Kaggle\\Git_Hub\\.venv\\lib\\site-packages\\sklearn\\base.py\", line 666, in _validate_params\n",
            "    validate_parameter_constraints(\n",
            "  File \"c:\\Users\\Mira\\Desktop\\Блок 3. Разведывательный анализ\\Соревнование на Kaggle\\Git_Hub\\.venv\\lib\\site-packages\\sklearn\\utils\\_param_validation.py\", line 95, in validate_parameter_constraints\n",
            "    raise InvalidParameterError(\n",
            "sklearn.utils._param_validation.InvalidParameterError: The 'penalty' parameter of LogisticRegression must be a str among {'l1', 'elasticnet', 'l2'} or None. Got 'none' instead.\n",
            "\n",
            "--------------------------------------------------------------------------------\n",
            "1 fits failed with the following error:\n",
            "Traceback (most recent call last):\n",
            "  File \"c:\\Users\\Mira\\Desktop\\Блок 3. Разведывательный анализ\\Соревнование на Kaggle\\Git_Hub\\.venv\\lib\\site-packages\\sklearn\\model_selection\\_validation.py\", line 895, in _fit_and_score\n",
            "    estimator.fit(X_train, y_train, **fit_params)\n",
            "  File \"c:\\Users\\Mira\\Desktop\\Блок 3. Разведывательный анализ\\Соревнование на Kaggle\\Git_Hub\\.venv\\lib\\site-packages\\sklearn\\base.py\", line 1467, in wrapper\n",
            "    estimator._validate_params()\n",
            "  File \"c:\\Users\\Mira\\Desktop\\Блок 3. Разведывательный анализ\\Соревнование на Kaggle\\Git_Hub\\.venv\\lib\\site-packages\\sklearn\\base.py\", line 666, in _validate_params\n",
            "    validate_parameter_constraints(\n",
            "  File \"c:\\Users\\Mira\\Desktop\\Блок 3. Разведывательный анализ\\Соревнование на Kaggle\\Git_Hub\\.venv\\lib\\site-packages\\sklearn\\utils\\_param_validation.py\", line 95, in validate_parameter_constraints\n",
            "    raise InvalidParameterError(\n",
            "sklearn.utils._param_validation.InvalidParameterError: The 'penalty' parameter of LogisticRegression must be a str among {'l1', 'l2', 'elasticnet'} or None. Got 'none' instead.\n",
            "\n",
            "--------------------------------------------------------------------------------\n",
            "17 fits failed with the following error:\n",
            "Traceback (most recent call last):\n",
            "  File \"c:\\Users\\Mira\\Desktop\\Блок 3. Разведывательный анализ\\Соревнование на Kaggle\\Git_Hub\\.venv\\lib\\site-packages\\sklearn\\model_selection\\_validation.py\", line 895, in _fit_and_score\n",
            "    estimator.fit(X_train, y_train, **fit_params)\n",
            "  File \"c:\\Users\\Mira\\Desktop\\Блок 3. Разведывательный анализ\\Соревнование на Kaggle\\Git_Hub\\.venv\\lib\\site-packages\\sklearn\\base.py\", line 1467, in wrapper\n",
            "    estimator._validate_params()\n",
            "  File \"c:\\Users\\Mira\\Desktop\\Блок 3. Разведывательный анализ\\Соревнование на Kaggle\\Git_Hub\\.venv\\lib\\site-packages\\sklearn\\base.py\", line 666, in _validate_params\n",
            "    validate_parameter_constraints(\n",
            "  File \"c:\\Users\\Mira\\Desktop\\Блок 3. Разведывательный анализ\\Соревнование на Kaggle\\Git_Hub\\.venv\\lib\\site-packages\\sklearn\\utils\\_param_validation.py\", line 95, in validate_parameter_constraints\n",
            "    raise InvalidParameterError(\n",
            "sklearn.utils._param_validation.InvalidParameterError: The 'penalty' parameter of LogisticRegression must be a str among {'l2', 'elasticnet', 'l1'} or None. Got 'none' instead.\n",
            "\n",
            "--------------------------------------------------------------------------------\n",
            "5 fits failed with the following error:\n",
            "Traceback (most recent call last):\n",
            "  File \"c:\\Users\\Mira\\Desktop\\Блок 3. Разведывательный анализ\\Соревнование на Kaggle\\Git_Hub\\.venv\\lib\\site-packages\\sklearn\\model_selection\\_validation.py\", line 895, in _fit_and_score\n",
            "    estimator.fit(X_train, y_train, **fit_params)\n",
            "  File \"c:\\Users\\Mira\\Desktop\\Блок 3. Разведывательный анализ\\Соревнование на Kaggle\\Git_Hub\\.venv\\lib\\site-packages\\sklearn\\base.py\", line 1467, in wrapper\n",
            "    estimator._validate_params()\n",
            "  File \"c:\\Users\\Mira\\Desktop\\Блок 3. Разведывательный анализ\\Соревнование на Kaggle\\Git_Hub\\.venv\\lib\\site-packages\\sklearn\\base.py\", line 666, in _validate_params\n",
            "    validate_parameter_constraints(\n",
            "  File \"c:\\Users\\Mira\\Desktop\\Блок 3. Разведывательный анализ\\Соревнование на Kaggle\\Git_Hub\\.venv\\lib\\site-packages\\sklearn\\utils\\_param_validation.py\", line 95, in validate_parameter_constraints\n",
            "    raise InvalidParameterError(\n",
            "sklearn.utils._param_validation.InvalidParameterError: The 'penalty' parameter of LogisticRegression must be a str among {'elasticnet', 'l2', 'l1'} or None. Got 'none' instead.\n",
            "\n",
            "  warnings.warn(some_fits_failed_message, FitFailedWarning)\n",
            "c:\\Users\\Mira\\Desktop\\Блок 3. Разведывательный анализ\\Соревнование на Kaggle\\Git_Hub\\.venv\\lib\\site-packages\\sklearn\\model_selection\\_search.py:1051: UserWarning: One or more of the test scores are non-finite: [       nan 0.75733333 0.75833333 0.75566667 0.75966667        nan\n",
            " 0.759             nan        nan        nan]\n",
            "  warnings.warn(\n"
          ]
        },
        {
          "name": "stdout",
          "output_type": "stream",
          "text": [
            "CPU times: total: 11.4 s\n",
            "Wall time: 1min 41s\n",
            "accuracy на тестовом наборе данных: 0.76\n",
            "f1_score на тестовом наборе данных: 0.78\n",
            "наилучшие знаечения гиперпараметров: {'solver': 'sag', 'penalty': 'l2', 'C': 0.56}\n"
          ]
        }
      ],
      "source": [
        "# Импортируем бибилиотеку RandomizedSearchCV\n",
        "from sklearn.model_selection import RandomizedSearchCV\n",
        "\n",
        "#Задаём пространство гиперпараметров\n",
        "param_distributions = {'penalty': ['l2', 'none'],\n",
        "                       'solver': ['lbfgs', 'sag'],\n",
        "                       'C': list(np.linspace(0.01, 1, 10, dtype = float))}\n",
        "#создаём объект класса RandomizedSearchCV\n",
        "random_search = RandomizedSearchCV(\n",
        "    estimator = linear_model.LogisticRegression(random_state = 42, max_iter = 1000),\n",
        "    param_distributions = param_distributions,\n",
        "    cv = 5,\n",
        "    n_iter = 10,\n",
        "    n_jobs = -1\n",
        ")\n",
        "# обучаем модель\n",
        "%time random_search.fit(X_train, y_train)\n",
        "print('accuracy на тестовом наборе данных: {:.2f}'.format(random_search.score(X_test, y_test)))\n",
        "y_test_pred = random_search.predict(X_test)\n",
        "print('f1_score на тестовом наборе данных: {:.2f}'.format(metrics.f1_score(y_test, y_test_pred)))\n",
        "print('наилучшие знаечения гиперпараметров: {}'.format(random_search.best_params_))"
      ]
    },
    {
      "cell_type": "markdown",
      "metadata": {
        "id": "QOf7Z4qdlOgT"
      },
      "source": [
        "Значение метрики не изменилось, однако скорость обучения значительно улучшилась.\n",
        "\n",
        "Посмотрим на итоговую полученную модель  на наилучшее значение точности кросс-валидации с помощью методов best_estimator_ и best_score_."
      ]
    },
    {
      "cell_type": "code",
      "execution_count": 28,
      "metadata": {
        "colab": {
          "base_uri": "https://localhost:8080/"
        },
        "id": "RURPcDR3k6wz",
        "outputId": "cbbf0e4e-9b6c-412c-9426-d1f0585a7195"
      },
      "outputs": [
        {
          "name": "stdout",
          "output_type": "stream",
          "text": [
            "Наилучшаая модель:\n",
            "LogisticRegression(C=0.56, max_iter=1000, random_state=42, solver='sag')\n",
            "Наилучшее значение точности при кросс-валидаци: 0.76\n"
          ]
        }
      ],
      "source": [
        "print('Наилучшаая модель:\\n{}'.format(random_search.best_estimator_))\n",
        "print('Наилучшее значение точности при кросс-валидаци: {:.2f}'.format(random_search.best_score_))"
      ]
    },
    {
      "cell_type": "markdown",
      "metadata": {
        "id": "16A6QMQcJYMv"
      },
      "source": [
        "### Случайный лес"
      ]
    },
    {
      "cell_type": "code",
      "execution_count": 29,
      "metadata": {
        "colab": {
          "base_uri": "https://localhost:8080/"
        },
        "id": "5otIZp89JkJD",
        "outputId": "ef25c871-9d38-4ba2-dae2-e9a2224a1c1d"
      },
      "outputs": [
        {
          "name": "stdout",
          "output_type": "stream",
          "text": [
            "accuracy на тестовом наборе данных: 0.81\n",
            "f1_score на тестовом наборе данных: 0.82\n"
          ]
        }
      ],
      "source": [
        "# Создаём объект класса случайный лес\n",
        "model_rf = ensemble.RandomForestClassifier(random_state = 42)\n",
        "# обучаем модель\n",
        "model_rf.fit(X_train, y_train)\n",
        "# делаем предсказание\n",
        "y_test_pred = model_rf.predict(X_test)\n",
        "# считаем метрику\n",
        "print('accuracy на тестовом наборе данных: {:.2f}'.format(model_rf.score(X_test, y_test)))\n",
        "print('f1_score на тестовом наборе данных: {:.2f}'.format(metrics.f1_score(y_test, y_test_pred)))"
      ]
    },
    {
      "cell_type": "markdown",
      "metadata": {
        "id": "QhWcjyM8TJ6l"
      },
      "source": [
        "Спазу видно, что модель случайного леса больше подходит для данной классфикации, так как метрика улучшилась даже при параметрах по умолчанию"
      ]
    },
    {
      "cell_type": "markdown",
      "metadata": {
        "id": "y4PUNLAvTKO8"
      },
      "source": [
        "#### **GridSearchCV**"
      ]
    },
    {
      "cell_type": "code",
      "execution_count": 30,
      "metadata": {
        "colab": {
          "base_uri": "https://localhost:8080/"
        },
        "id": "_SZAYGNbqAYo",
        "outputId": "ba521020-a66e-4ac1-c18c-7eacd117a99a"
      },
      "outputs": [
        {
          "name": "stdout",
          "output_type": "stream",
          "text": [
            "CPU times: total: 0 ns\n",
            "Wall time: 0 ns\n",
            "accuracy на тестовом наборе данных: 0.79\n",
            "наилучшая средняя точность-accuracy кросс-валидации 0.79\n",
            "f1-score на тестовом наборе данных: 0.81\n",
            "наилучшие значения параметров: {'max_depth': 30, 'min_samples_leaf': 5, 'n_estimators': 120}\n"
          ]
        }
      ],
      "source": [
        "#Задаём сетку гиперпараметров\n",
        "param_grid = {'n_estimators': list(range(80, 200, 40)),\n",
        "              'min_samples_leaf': [5],\n",
        "              'max_depth': list(np.linspace(20, 60, 5, dtype=int))}\n",
        "\n",
        "# создаём объект класса GridSearchCV()\n",
        "grid_search_rf = GridSearchCV(\n",
        "\testimator=ensemble.RandomForestClassifier(random_state=42),\n",
        "     param_grid=param_grid,\n",
        "     cv=5,\n",
        "     n_jobs=-1\n",
        "\n",
        ")\n",
        "# обучаем модель и выводим результаты\n",
        "%time\n",
        "grid_search_rf.fit(X_train, y_train)\n",
        "print('accuracy на тестовом наборе данных: {:.2f}'.format(grid_search_rf.score(X_test, y_test)))\n",
        "y_test_pred = grid_search_rf.predict(X_test)\n",
        "print('наилучшая средняя точность-accuracy кросс-валидации {:.2f}'.format(grid_search_rf.best_score_))\n",
        "print('f1-score на тестовом наборе данных: {:.2f}'.format(metrics.f1_score(y_test, y_test_pred)))\n",
        "print('наилучшие значения параметров: {}'.format(grid_search_rf.best_params_))"
      ]
    },
    {
      "cell_type": "code",
      "execution_count": 31,
      "metadata": {
        "colab": {
          "base_uri": "https://localhost:8080/",
          "height": 424
        },
        "id": "FVot_4a3UZ9W",
        "outputId": "3d34a606-41c0-405b-d509-16a1ddafe876"
      },
      "outputs": [
        {
          "data": {
            "image/png": "[encoded data removed]",
            "text/plain": [
              "<Figure size 800x400 with 2 Axes>"
            ]
          },
          "metadata": {},
          "output_type": "display_data"
        }
      ],
      "source": [
        "# Посмотрим, как менялась точность при различных гиперпараметрах\n",
        "visual = pd.pivot_table(pd.DataFrame(grid_search_rf.cv_results_),\n",
        "                        values='mean_test_score',\n",
        "                        index = 'param_max_depth',\n",
        "                        columns = 'param_n_estimators')\n",
        "\n",
        "sns.heatmap(visual)\n",
        "plt.title('Тепловая карта зависимости метрики accuracy от max_depth и n_estimators') # подпись графика\n",
        "sns.set(rc={'figure.figsize':(12, 8)}) #задаем размер графика"
      ]
    },
    {
      "cell_type": "markdown",
      "metadata": {
        "id": "vFUZElBB1OhF"
      },
      "source": [
        "По графику можно увидеть, что наилучшая accuracy достигается при 120 деревьях случайного леса и максимальной глубиной 30."
      ]
    },
    {
      "cell_type": "markdown",
      "metadata": {
        "id": "B4T83WdrWuRF"
      },
      "source": [
        "#### <center> **RandomizedSearchCV**"
      ]
    },
    {
      "cell_type": "code",
      "execution_count": 32,
      "metadata": {
        "colab": {
          "background_save": true,
          "base_uri": "https://localhost:8080/"
        },
        "id": "LsR3UEFuZM9X",
        "outputId": "22449f47-23e6-4f07-ddac-775f67cde3f1"
      },
      "outputs": [
        {
          "name": "stdout",
          "output_type": "stream",
          "text": [
            "CPU times: total: 0 ns\n",
            "Wall time: 0 ns\n",
            "accuracy на тестовом наборе данных: 0.79\n",
            "наилучшая средняя точность-accuracy кросс-валидации 0.79\n",
            "f1-score на тестовом наборе данных: 0.81\n",
            "наилучшие значения параметров: {'n_estimators': 120, 'min_samples_leaf': 5, 'max_depth': 30}\n"
          ]
        }
      ],
      "source": [
        "# задаём сетку гиперпараметров\n",
        "param_distributions = {'n_estimators': list(range(80, 200, 40)),\n",
        "              'min_samples_leaf': [5],\n",
        "              'max_depth': list(np.linspace(20, 60, 5, dtype=int))\n",
        "              }\n",
        "# создаём объект класса RandomizedSearchCV()\n",
        "random_search_rf = RandomizedSearchCV(\n",
        "    estimator = ensemble.RandomForestClassifier(random_state=42),\n",
        "    param_distributions = param_distributions,\n",
        "    cv = 5,\n",
        "    n_iter = 15,\n",
        "    n_jobs = -1\n",
        "\n",
        ")\n",
        "%time\n",
        "random_search_rf.fit(X_train, y_train)\n",
        "print('accuracy на тестовом наборе данных: {:.2f}'.format(random_search_rf.score(X_test, y_test)))\n",
        "y_test_pred = grid_search_rf.predict(X_test)\n",
        "print('наилучшая средняя точность-accuracy кросс-валидации {:.2f}'.format(random_search_rf.best_score_))\n",
        "print('f1-score на тестовом наборе данных: {:.2f}'.format(metrics.f1_score(y_test, y_test_pred)))\n",
        "print('наилучшие значения параметров: {}'.format(random_search_rf.best_params_))"
      ]
    },
    {
      "cell_type": "markdown",
      "metadata": {
        "id": "boI-lJ-8_kZz"
      },
      "source": [
        "По результатам оценок, можно сказать, что пока по подбору гиперпараметров лидирует Случайный лес с гиперпараметрами по умолчанию, возможно сетка гиперпараметров не попадает в \"нужный\" диапазон."
      ]
    },
    {
      "cell_type": "markdown",
      "metadata": {
        "id": "-hDAEaxlh9Tj"
      },
      "source": [
        "### **HYPEROPT**"
      ]
    },
    {
      "cell_type": "code",
      "execution_count": 33,
      "metadata": {
        "colab": {
          "base_uri": "https://localhost:8080/"
        },
        "id": "IH_o22XPh5je",
        "outputId": "d8fe2df4-6be5-4fd7-c4cb-337151e846af"
      },
      "outputs": [
        {
          "name": "stdout",
          "output_type": "stream",
          "text": [
            "Версия Hyperopt : 0.2.7\n"
          ]
        }
      ],
      "source": [
        "# Загружаем необходимые бибилиотеки\n",
        "import hyperopt\n",
        "from hyperopt import hp, fmin, tpe, Trials\n",
        "\n",
        "# fmin - основная функция, она будет минимизировать наш функционал\n",
        "# tpe - алгоритм оптимизации\n",
        "# hp - включает набор методов для объявления пространства поиска гиперпараметров\n",
        "# trails - используется для логирования результатов\n",
        "\n",
        "print(\"Версия Hyperopt : {}\".format(hyperopt.__version__))\n"
      ]
    },
    {
      "cell_type": "code",
      "execution_count": 34,
      "metadata": {
        "id": "FUtl9dUdi326"
      },
      "outputs": [],
      "source": [
        "# зададим пространство гиперпараметров\n",
        "space = {'n_estimators': hp.quniform('n_estimators', 100, 200, 1),\n",
        "         'max_depth': hp.quniform('max_depth', 20, 40, 1),\n",
        "         'min_samples_leaf': hp.quniform('min_samples_leaf', 3, 10, 1)}\n",
        "\n",
        "#создаём функцию минимизации\n",
        "def hyperopt_fn(params, cv=5, X=X_train, y=y_train, random_state=42):\n",
        "  params_enter = {'n_estimators' : int(params['n_estimators']),\n",
        "                  'max_depth' : int(params['max_depth']),\n",
        "                  'min_samples_leaf' :  int(params['min_samples_leaf'])}\n",
        "  model = ensemble.RandomForestClassifier(**params_enter, random_state=random_state)\n",
        "\n",
        "  model.fit(X,y)\n",
        "  score = cross_val_score(model, X, y, scoring='f1', cv=cv, n_jobs = -1).mean()\n",
        "\n",
        "  # метрику необходимо минимизировать, поэтому ставим знак минус\n",
        "  return - score"
      ]
    },
    {
      "cell_type": "code",
      "execution_count": 35,
      "metadata": {
        "colab": {
          "base_uri": "https://localhost:8080/"
        },
        "id": "FpZfmdIzpuMe",
        "outputId": "d28b52d5-4969-4fc0-e159-711bef3c60c3"
      },
      "outputs": [
        {
          "name": "stdout",
          "output_type": "stream",
          "text": [
            "100%|██████████| 20/20 [01:08<00:00,  3.42s/trial, best loss: -0.8135045209241927]\n",
            "наилучшие значения гиперпараметров:{'max_depth': 32.0, 'min_samples_leaf': 4.0, 'n_estimators': 115.0}\n",
            "CPU times: total: 23.8 s\n",
            "Wall time: 1min 8s\n"
          ]
        }
      ],
      "source": [
        "%%time\n",
        "random_state=42\n",
        "# Начинаем подбор гиперпараметров\n",
        "trials = Trials() # для логирования результатов\n",
        "\n",
        "best_params = fmin(hyperopt_fn, # наша функция\n",
        "                   space = space, # пространство гиперпараметров\n",
        "                   algo = tpe.suggest, # алгоритм оптимизации, установлен по умолчанию\n",
        "                   max_evals = 20, # максимальное количество итераций\n",
        "                   trials = trials, # логирование результатов\n",
        "                   rstate = np.random.default_rng(random_state)) # фиксируем для повторяемости результата\n",
        "\n",
        "print('наилучшие значения гиперпараметров:{}'.format(best_params))"
      ]
    },
    {
      "cell_type": "code",
      "execution_count": 36,
      "metadata": {
        "colab": {
          "base_uri": "https://localhost:8080/"
        },
        "id": "n1HZ6iYRrzrS",
        "outputId": "bff4dc91-f019-4714-8d65-4209b64894cc"
      },
      "outputs": [
        {
          "name": "stdout",
          "output_type": "stream",
          "text": [
            "accuracy на теством наборе данных: 0.79\n",
            "f1_score на тестовом наборе данных 0.80\n"
          ]
        }
      ],
      "source": [
        "# используя наилучшие параметры обучим модель\n",
        "model = ensemble.RandomForestClassifier(\n",
        "                            n_estimators = int(best_params['n_estimators']),\n",
        "                            max_depth = int(best_params['max_depth']),\n",
        "                            min_samples_leaf = int(best_params['min_samples_leaf']),\n",
        "                            random_state=42)\n",
        "# обучим модель\n",
        "model.fit(X_train, y_train)\n",
        "# Расчитываем метрику на тестовом наборе\n",
        "print('accuracy на теством наборе данных: {:.2f}'.format(model.score(X_test, y_test)))\n",
        "y_test_pred = model.predict(X_test)\n",
        "print('f1_score на тестовом наборе данных {:.2f}'.format(metrics.f1_score(y_test, y_test_pred)))"
      ]
    },
    {
      "cell_type": "markdown",
      "metadata": {
        "id": "HVxTOb0c4784"
      },
      "source": [
        "Результаты оптимизации через hyperopt дали метрику ниже чем RandomizedSearchCV и GridSearchCV, попробуем продолжить поиск гиперпараметров, чтобы получить лучшие результаты."
      ]
    },
    {
      "cell_type": "code",
      "execution_count": 37,
      "metadata": {
        "colab": {
          "base_uri": "https://localhost:8080/"
        },
        "id": "j2d-RDydt2pi",
        "outputId": "090181dc-3716-4941-e6bf-d800bf89c224"
      },
      "outputs": [
        {
          "name": "stdout",
          "output_type": "stream",
          "text": [
            " 67%|██████▋   | 20/30 [00:00<?, ?trial/s, best loss=?]"
          ]
        },
        {
          "name": "stdout",
          "output_type": "stream",
          "text": [
            "100%|██████████| 30/30 [00:41<00:00,  4.14s/trial, best loss: -0.8151618680076546]\n",
            "Наилучшие значения гиперпараметров {'max_depth': 33.0, 'min_samples_leaf': 5.0, 'n_estimators': 157.0}\n"
          ]
        }
      ],
      "source": [
        "# если необходимо продолжить подбор,\n",
        "# то увеличиваем max_evals(должен быть строго больше, чем на предыдуших итерациях)\n",
        "# и используем старый trials\n",
        "best_params=fmin(hyperopt_fn, # наша функция\n",
        "          space=space, # пространство гиперпараметров\n",
        "          algo=tpe.suggest, # алгоритм оптимизации, установлен по умолчанию, задавать необязательно\n",
        "          max_evals=30, # максимальное количество итераций\n",
        "          trials=trials, # логирование результатов\n",
        "          rstate=np.random.default_rng(random_state)# фиксируем для повторяемости результата\n",
        "         )\n",
        "print(\"Наилучшие значения гиперпараметров {}\".format(best_params))"
      ]
    },
    {
      "cell_type": "code",
      "execution_count": 38,
      "metadata": {
        "colab": {
          "base_uri": "https://localhost:8080/"
        },
        "id": "YFIoOjnRwBGW",
        "outputId": "bdcb801d-58b4-4d69-cceb-e535892f40e3"
      },
      "outputs": [
        {
          "name": "stdout",
          "output_type": "stream",
          "text": [
            "accuracy на теством наборе данных: 0.79\n",
            "f1_score на тестовом наборе данных 0.81\n"
          ]
        }
      ],
      "source": [
        "# и ещё раз обучаем модель и получаем метрику с новыми параметрами\n",
        "model = ensemble.RandomForestClassifier(\n",
        "                            n_estimators = int(best_params['n_estimators']),\n",
        "                            max_depth = int(best_params['max_depth']),\n",
        "                            min_samples_leaf = int(best_params['min_samples_leaf']),\n",
        "                            random_state=42)\n",
        "\n",
        "model.fit(X_train, y_train)\n",
        "print('accuracy на теством наборе данных: {:.2f}'.format(model.score(X_test, y_test)))\n",
        "y_test_pred = model.predict(X_test)\n",
        "print('f1_score на тестовом наборе данных {:.2f}'.format(metrics.f1_score(y_test, y_test_pred)))"
      ]
    },
    {
      "cell_type": "markdown",
      "metadata": {
        "id": "g-fsM_WTwUk7"
      },
      "source": [
        "С применением hyperopt метрика f1-score достигла того же показателя, что и RandomizedSearchCV() и GridSearchCV() однако время оптимизации значительно сократилось, даже с учетом продолжения оптимизации."
      ]
    },
    {
      "cell_type": "code",
      "execution_count": 39,
      "metadata": {
        "colab": {
          "base_uri": "https://localhost:8080/",
          "height": 840
        },
        "id": "7-z6tukdwbUY",
        "outputId": "861ba797-ec20-4158-c9e7-a7c838b5d8a4"
      },
      "outputs": [
        {
          "data": {
            "image/png": "[encoded data removed]",
            "text/plain": [
              "<Figure size 1000x1000 with 3 Axes>"
            ]
          },
          "metadata": {},
          "output_type": "display_data"
        }
      ],
      "source": [
        "# отрисуем, как менялась точность при различных гиперпараметрах\n",
        "tpe_results=np.array([[x['result']['loss'],\n",
        "                      x['misc']['vals']['max_depth'][0],\n",
        "                      x['misc']['vals']['n_estimators'][0]] for x in trials.trials])\n",
        "\n",
        "tpe_results_df=pd.DataFrame(tpe_results,\n",
        "                           columns=['score', 'max_depth', 'n_estimators'])\n",
        "# тепловая карта в данном случае не очень наглядна, возьмем линейный график\n",
        "tpe_results_df.plot(subplots=True,figsize=(10, 10));"
      ]
    },
    {
      "cell_type": "markdown",
      "metadata": {
        "id": "GfB_99nkxIAI"
      },
      "source": [
        "### **OPTUNA**"
      ]
    },
    {
      "cell_type": "code",
      "execution_count": 40,
      "metadata": {
        "colab": {
          "base_uri": "https://localhost:8080/"
        },
        "id": "nRDT6d9bxS4Y",
        "outputId": "2b575ada-efb5-4bcd-ed94-b93158eb4c25"
      },
      "outputs": [
        {
          "name": "stdout",
          "output_type": "stream",
          "text": [
            "Версия Optuna: 3.6.0\n"
          ]
        }
      ],
      "source": [
        "# Загружаем framework\n",
        "import optuna\n",
        "\n",
        "print(\"Версия Optuna: {}\".format(optuna.__version__))"
      ]
    },
    {
      "cell_type": "code",
      "execution_count": 41,
      "metadata": {
        "id": "x0m-ksU67RnA"
      },
      "outputs": [],
      "source": [
        "# Создаём функцию для оптимизации гиперпараметров, которая будет принимать\n",
        "# сгенерированные комбинации гиперпараметров и возвращать метрику\n",
        "def optuna_fn (trial):\n",
        "  # задаем пространства поиска гиперпараметров\n",
        "  n_estimators = trial.suggest_int('n_estimators', 100, 200, 1)\n",
        "  max_depth = trial.suggest_int('max_depth', 10, 30, 1)\n",
        "  min_samples_leaf = trial.suggest_int('min_samples_leaf', 2, 10, 1)\n",
        "\n",
        "  # создаем модель\n",
        "  model = ensemble.RandomForestClassifier(n_estimators=n_estimators,\n",
        "                                          max_depth=max_depth,\n",
        "                                          min_samples_leaf=min_samples_leaf,\n",
        "                                          random_state=42)\n",
        "\n",
        "  #обучаем модель\n",
        "  model.fit(X_train, y_train)\n",
        "  score = metrics.f1_score(y_train, model.predict(X_train))\n",
        "  return score"
      ]
    },
    {
      "cell_type": "code",
      "execution_count": 42,
      "metadata": {
        "colab": {
          "base_uri": "https://localhost:8080/"
        },
        "id": "QAsgjP65KtO_",
        "outputId": "bb4f4b78-52d1-42c5-e69d-59e83a8ef80d"
      },
      "outputs": [
        {
          "name": "stderr",
          "output_type": "stream",
          "text": [
            "[I 2024-03-29 23:53:08,390] A new study created in memory with name: RandomForestClassifier\n",
            "C:\\Users\\Mira\\AppData\\Local\\Temp\\ipykernel_1492\\128067720.py:5: FutureWarning: suggest_int() got {'step'} as positional arguments but they were expected to be given as keyword arguments.\n",
            "  n_estimators = trial.suggest_int('n_estimators', 100, 200, 1)\n",
            "C:\\Users\\Mira\\AppData\\Local\\Temp\\ipykernel_1492\\128067720.py:6: FutureWarning: suggest_int() got {'step'} as positional arguments but they were expected to be given as keyword arguments.\n",
            "  max_depth = trial.suggest_int('max_depth', 10, 30, 1)\n",
            "C:\\Users\\Mira\\AppData\\Local\\Temp\\ipykernel_1492\\128067720.py:7: FutureWarning: suggest_int() got {'step'} as positional arguments but they were expected to be given as keyword arguments.\n",
            "  min_samples_leaf = trial.suggest_int('min_samples_leaf', 2, 10, 1)\n",
            "[I 2024-03-29 23:53:09,714] Trial 0 finished with value: 0.9215328467153284 and parameters: {'n_estimators': 122, 'max_depth': 29, 'min_samples_leaf': 7}. Best is trial 0 with value: 0.9215328467153284.\n",
            "C:\\Users\\Mira\\AppData\\Local\\Temp\\ipykernel_1492\\128067720.py:5: FutureWarning: suggest_int() got {'step'} as positional arguments but they were expected to be given as keyword arguments.\n",
            "  n_estimators = trial.suggest_int('n_estimators', 100, 200, 1)\n",
            "C:\\Users\\Mira\\AppData\\Local\\Temp\\ipykernel_1492\\128067720.py:6: FutureWarning: suggest_int() got {'step'} as positional arguments but they were expected to be given as keyword arguments.\n",
            "  max_depth = trial.suggest_int('max_depth', 10, 30, 1)\n",
            "C:\\Users\\Mira\\AppData\\Local\\Temp\\ipykernel_1492\\128067720.py:7: FutureWarning: suggest_int() got {'step'} as positional arguments but they were expected to be given as keyword arguments.\n",
            "  min_samples_leaf = trial.suggest_int('min_samples_leaf', 2, 10, 1)\n",
            "[I 2024-03-29 23:53:11,266] Trial 1 finished with value: 0.8873325213154689 and parameters: {'n_estimators': 183, 'max_depth': 10, 'min_samples_leaf': 9}. Best is trial 0 with value: 0.9215328467153284.\n",
            "C:\\Users\\Mira\\AppData\\Local\\Temp\\ipykernel_1492\\128067720.py:5: FutureWarning: suggest_int() got {'step'} as positional arguments but they were expected to be given as keyword arguments.\n",
            "  n_estimators = trial.suggest_int('n_estimators', 100, 200, 1)\n",
            "C:\\Users\\Mira\\AppData\\Local\\Temp\\ipykernel_1492\\128067720.py:6: FutureWarning: suggest_int() got {'step'} as positional arguments but they were expected to be given as keyword arguments.\n",
            "  max_depth = trial.suggest_int('max_depth', 10, 30, 1)\n",
            "C:\\Users\\Mira\\AppData\\Local\\Temp\\ipykernel_1492\\128067720.py:7: FutureWarning: suggest_int() got {'step'} as positional arguments but they were expected to be given as keyword arguments.\n",
            "  min_samples_leaf = trial.suggest_int('min_samples_leaf', 2, 10, 1)\n",
            "[I 2024-03-29 23:53:12,420] Trial 2 finished with value: 0.9105392156862745 and parameters: {'n_estimators': 122, 'max_depth': 12, 'min_samples_leaf': 7}. Best is trial 0 with value: 0.9215328467153284.\n",
            "C:\\Users\\Mira\\AppData\\Local\\Temp\\ipykernel_1492\\128067720.py:5: FutureWarning: suggest_int() got {'step'} as positional arguments but they were expected to be given as keyword arguments.\n",
            "  n_estimators = trial.suggest_int('n_estimators', 100, 200, 1)\n",
            "C:\\Users\\Mira\\AppData\\Local\\Temp\\ipykernel_1492\\128067720.py:6: FutureWarning: suggest_int() got {'step'} as positional arguments but they were expected to be given as keyword arguments.\n",
            "  max_depth = trial.suggest_int('max_depth', 10, 30, 1)\n",
            "C:\\Users\\Mira\\AppData\\Local\\Temp\\ipykernel_1492\\128067720.py:7: FutureWarning: suggest_int() got {'step'} as positional arguments but they were expected to be given as keyword arguments.\n",
            "  min_samples_leaf = trial.suggest_int('min_samples_leaf', 2, 10, 1)\n",
            "[I 2024-03-29 23:53:13,742] Trial 3 finished with value: 0.9132947976878613 and parameters: {'n_estimators': 136, 'max_depth': 15, 'min_samples_leaf': 8}. Best is trial 0 with value: 0.9215328467153284.\n",
            "C:\\Users\\Mira\\AppData\\Local\\Temp\\ipykernel_1492\\128067720.py:5: FutureWarning: suggest_int() got {'step'} as positional arguments but they were expected to be given as keyword arguments.\n",
            "  n_estimators = trial.suggest_int('n_estimators', 100, 200, 1)\n",
            "C:\\Users\\Mira\\AppData\\Local\\Temp\\ipykernel_1492\\128067720.py:6: FutureWarning: suggest_int() got {'step'} as positional arguments but they were expected to be given as keyword arguments.\n",
            "  max_depth = trial.suggest_int('max_depth', 10, 30, 1)\n",
            "C:\\Users\\Mira\\AppData\\Local\\Temp\\ipykernel_1492\\128067720.py:7: FutureWarning: suggest_int() got {'step'} as positional arguments but they were expected to be given as keyword arguments.\n",
            "  min_samples_leaf = trial.suggest_int('min_samples_leaf', 2, 10, 1)\n",
            "[I 2024-03-29 23:53:15,751] Trial 4 finished with value: 0.9481391092129348 and parameters: {'n_estimators': 170, 'max_depth': 15, 'min_samples_leaf': 4}. Best is trial 4 with value: 0.9481391092129348.\n",
            "C:\\Users\\Mira\\AppData\\Local\\Temp\\ipykernel_1492\\128067720.py:5: FutureWarning: suggest_int() got {'step'} as positional arguments but they were expected to be given as keyword arguments.\n",
            "  n_estimators = trial.suggest_int('n_estimators', 100, 200, 1)\n",
            "C:\\Users\\Mira\\AppData\\Local\\Temp\\ipykernel_1492\\128067720.py:6: FutureWarning: suggest_int() got {'step'} as positional arguments but they were expected to be given as keyword arguments.\n",
            "  max_depth = trial.suggest_int('max_depth', 10, 30, 1)\n",
            "C:\\Users\\Mira\\AppData\\Local\\Temp\\ipykernel_1492\\128067720.py:7: FutureWarning: suggest_int() got {'step'} as positional arguments but they were expected to be given as keyword arguments.\n",
            "  min_samples_leaf = trial.suggest_int('min_samples_leaf', 2, 10, 1)\n",
            "[I 2024-03-29 23:53:18,178] Trial 5 finished with value: 0.9917203311867525 and parameters: {'n_estimators': 148, 'max_depth': 30, 'min_samples_leaf': 2}. Best is trial 5 with value: 0.9917203311867525.\n",
            "C:\\Users\\Mira\\AppData\\Local\\Temp\\ipykernel_1492\\128067720.py:5: FutureWarning: suggest_int() got {'step'} as positional arguments but they were expected to be given as keyword arguments.\n",
            "  n_estimators = trial.suggest_int('n_estimators', 100, 200, 1)\n",
            "C:\\Users\\Mira\\AppData\\Local\\Temp\\ipykernel_1492\\128067720.py:6: FutureWarning: suggest_int() got {'step'} as positional arguments but they were expected to be given as keyword arguments.\n",
            "  max_depth = trial.suggest_int('max_depth', 10, 30, 1)\n",
            "C:\\Users\\Mira\\AppData\\Local\\Temp\\ipykernel_1492\\128067720.py:7: FutureWarning: suggest_int() got {'step'} as positional arguments but they were expected to be given as keyword arguments.\n",
            "  min_samples_leaf = trial.suggest_int('min_samples_leaf', 2, 10, 1)\n",
            "[I 2024-03-29 23:53:19,872] Trial 6 finished with value: 0.9252279635258359 and parameters: {'n_estimators': 141, 'max_depth': 14, 'min_samples_leaf': 6}. Best is trial 5 with value: 0.9917203311867525.\n",
            "C:\\Users\\Mira\\AppData\\Local\\Temp\\ipykernel_1492\\128067720.py:5: FutureWarning: suggest_int() got {'step'} as positional arguments but they were expected to be given as keyword arguments.\n",
            "  n_estimators = trial.suggest_int('n_estimators', 100, 200, 1)\n",
            "C:\\Users\\Mira\\AppData\\Local\\Temp\\ipykernel_1492\\128067720.py:6: FutureWarning: suggest_int() got {'step'} as positional arguments but they were expected to be given as keyword arguments.\n",
            "  max_depth = trial.suggest_int('max_depth', 10, 30, 1)\n",
            "C:\\Users\\Mira\\AppData\\Local\\Temp\\ipykernel_1492\\128067720.py:7: FutureWarning: suggest_int() got {'step'} as positional arguments but they were expected to be given as keyword arguments.\n",
            "  min_samples_leaf = trial.suggest_int('min_samples_leaf', 2, 10, 1)\n",
            "[I 2024-03-29 23:53:21,658] Trial 7 finished with value: 0.9669117647058824 and parameters: {'n_estimators': 133, 'max_depth': 16, 'min_samples_leaf': 3}. Best is trial 5 with value: 0.9917203311867525.\n",
            "C:\\Users\\Mira\\AppData\\Local\\Temp\\ipykernel_1492\\128067720.py:5: FutureWarning: suggest_int() got {'step'} as positional arguments but they were expected to be given as keyword arguments.\n",
            "  n_estimators = trial.suggest_int('n_estimators', 100, 200, 1)\n",
            "C:\\Users\\Mira\\AppData\\Local\\Temp\\ipykernel_1492\\128067720.py:6: FutureWarning: suggest_int() got {'step'} as positional arguments but they were expected to be given as keyword arguments.\n",
            "  max_depth = trial.suggest_int('max_depth', 10, 30, 1)\n",
            "C:\\Users\\Mira\\AppData\\Local\\Temp\\ipykernel_1492\\128067720.py:7: FutureWarning: suggest_int() got {'step'} as positional arguments but they were expected to be given as keyword arguments.\n",
            "  min_samples_leaf = trial.suggest_int('min_samples_leaf', 2, 10, 1)\n",
            "[I 2024-03-29 23:53:23,455] Trial 8 finished with value: 0.9324817518248175 and parameters: {'n_estimators': 157, 'max_depth': 22, 'min_samples_leaf': 6}. Best is trial 5 with value: 0.9917203311867525.\n",
            "C:\\Users\\Mira\\AppData\\Local\\Temp\\ipykernel_1492\\128067720.py:5: FutureWarning: suggest_int() got {'step'} as positional arguments but they were expected to be given as keyword arguments.\n",
            "  n_estimators = trial.suggest_int('n_estimators', 100, 200, 1)\n",
            "C:\\Users\\Mira\\AppData\\Local\\Temp\\ipykernel_1492\\128067720.py:6: FutureWarning: suggest_int() got {'step'} as positional arguments but they were expected to be given as keyword arguments.\n",
            "  max_depth = trial.suggest_int('max_depth', 10, 30, 1)\n",
            "C:\\Users\\Mira\\AppData\\Local\\Temp\\ipykernel_1492\\128067720.py:7: FutureWarning: suggest_int() got {'step'} as positional arguments but they were expected to be given as keyword arguments.\n",
            "  min_samples_leaf = trial.suggest_int('min_samples_leaf', 2, 10, 1)\n",
            "[I 2024-03-29 23:53:24,663] Trial 9 finished with value: 0.9089242053789731 and parameters: {'n_estimators': 100, 'max_depth': 12, 'min_samples_leaf': 7}. Best is trial 5 with value: 0.9917203311867525.\n",
            "C:\\Users\\Mira\\AppData\\Local\\Temp\\ipykernel_1492\\128067720.py:5: FutureWarning: suggest_int() got {'step'} as positional arguments but they were expected to be given as keyword arguments.\n",
            "  n_estimators = trial.suggest_int('n_estimators', 100, 200, 1)\n",
            "C:\\Users\\Mira\\AppData\\Local\\Temp\\ipykernel_1492\\128067720.py:6: FutureWarning: suggest_int() got {'step'} as positional arguments but they were expected to be given as keyword arguments.\n",
            "  max_depth = trial.suggest_int('max_depth', 10, 30, 1)\n",
            "C:\\Users\\Mira\\AppData\\Local\\Temp\\ipykernel_1492\\128067720.py:7: FutureWarning: suggest_int() got {'step'} as positional arguments but they were expected to be given as keyword arguments.\n",
            "  min_samples_leaf = trial.suggest_int('min_samples_leaf', 2, 10, 1)\n",
            "[I 2024-03-29 23:53:27,692] Trial 10 finished with value: 0.9917254060680355 and parameters: {'n_estimators': 198, 'max_depth': 30, 'min_samples_leaf': 2}. Best is trial 10 with value: 0.9917254060680355.\n",
            "C:\\Users\\Mira\\AppData\\Local\\Temp\\ipykernel_1492\\128067720.py:5: FutureWarning: suggest_int() got {'step'} as positional arguments but they were expected to be given as keyword arguments.\n",
            "  n_estimators = trial.suggest_int('n_estimators', 100, 200, 1)\n",
            "C:\\Users\\Mira\\AppData\\Local\\Temp\\ipykernel_1492\\128067720.py:6: FutureWarning: suggest_int() got {'step'} as positional arguments but they were expected to be given as keyword arguments.\n",
            "  max_depth = trial.suggest_int('max_depth', 10, 30, 1)\n",
            "C:\\Users\\Mira\\AppData\\Local\\Temp\\ipykernel_1492\\128067720.py:7: FutureWarning: suggest_int() got {'step'} as positional arguments but they were expected to be given as keyword arguments.\n",
            "  min_samples_leaf = trial.suggest_int('min_samples_leaf', 2, 10, 1)\n",
            "[I 2024-03-29 23:53:30,346] Trial 11 finished with value: 0.9917203311867525 and parameters: {'n_estimators': 194, 'max_depth': 29, 'min_samples_leaf': 2}. Best is trial 10 with value: 0.9917254060680355.\n",
            "C:\\Users\\Mira\\AppData\\Local\\Temp\\ipykernel_1492\\128067720.py:5: FutureWarning: suggest_int() got {'step'} as positional arguments but they were expected to be given as keyword arguments.\n",
            "  n_estimators = trial.suggest_int('n_estimators', 100, 200, 1)\n",
            "C:\\Users\\Mira\\AppData\\Local\\Temp\\ipykernel_1492\\128067720.py:6: FutureWarning: suggest_int() got {'step'} as positional arguments but they were expected to be given as keyword arguments.\n",
            "  max_depth = trial.suggest_int('max_depth', 10, 30, 1)\n",
            "C:\\Users\\Mira\\AppData\\Local\\Temp\\ipykernel_1492\\128067720.py:7: FutureWarning: suggest_int() got {'step'} as positional arguments but they were expected to be given as keyword arguments.\n",
            "  min_samples_leaf = trial.suggest_int('min_samples_leaf', 2, 10, 1)\n",
            "[I 2024-03-29 23:53:32,299] Trial 12 finished with value: 0.9575572519083969 and parameters: {'n_estimators': 161, 'max_depth': 25, 'min_samples_leaf': 4}. Best is trial 10 with value: 0.9917254060680355.\n",
            "C:\\Users\\Mira\\AppData\\Local\\Temp\\ipykernel_1492\\128067720.py:5: FutureWarning: suggest_int() got {'step'} as positional arguments but they were expected to be given as keyword arguments.\n",
            "  n_estimators = trial.suggest_int('n_estimators', 100, 200, 1)\n",
            "C:\\Users\\Mira\\AppData\\Local\\Temp\\ipykernel_1492\\128067720.py:6: FutureWarning: suggest_int() got {'step'} as positional arguments but they were expected to be given as keyword arguments.\n",
            "  max_depth = trial.suggest_int('max_depth', 10, 30, 1)\n",
            "C:\\Users\\Mira\\AppData\\Local\\Temp\\ipykernel_1492\\128067720.py:7: FutureWarning: suggest_int() got {'step'} as positional arguments but they were expected to be given as keyword arguments.\n",
            "  min_samples_leaf = trial.suggest_int('min_samples_leaf', 2, 10, 1)\n",
            "[I 2024-03-29 23:53:34,922] Trial 13 finished with value: 0.9908088235294118 and parameters: {'n_estimators': 198, 'max_depth': 26, 'min_samples_leaf': 2}. Best is trial 10 with value: 0.9917254060680355.\n",
            "C:\\Users\\Mira\\AppData\\Local\\Temp\\ipykernel_1492\\128067720.py:5: FutureWarning: suggest_int() got {'step'} as positional arguments but they were expected to be given as keyword arguments.\n",
            "  n_estimators = trial.suggest_int('n_estimators', 100, 200, 1)\n",
            "C:\\Users\\Mira\\AppData\\Local\\Temp\\ipykernel_1492\\128067720.py:6: FutureWarning: suggest_int() got {'step'} as positional arguments but they were expected to be given as keyword arguments.\n",
            "  max_depth = trial.suggest_int('max_depth', 10, 30, 1)\n",
            "C:\\Users\\Mira\\AppData\\Local\\Temp\\ipykernel_1492\\128067720.py:7: FutureWarning: suggest_int() got {'step'} as positional arguments but they were expected to be given as keyword arguments.\n",
            "  min_samples_leaf = trial.suggest_int('min_samples_leaf', 2, 10, 1)\n",
            "[I 2024-03-29 23:53:36,923] Trial 14 finished with value: 0.9584605986560782 and parameters: {'n_estimators': 172, 'max_depth': 30, 'min_samples_leaf': 4}. Best is trial 10 with value: 0.9917254060680355.\n",
            "C:\\Users\\Mira\\AppData\\Local\\Temp\\ipykernel_1492\\128067720.py:5: FutureWarning: suggest_int() got {'step'} as positional arguments but they were expected to be given as keyword arguments.\n",
            "  n_estimators = trial.suggest_int('n_estimators', 100, 200, 1)\n",
            "C:\\Users\\Mira\\AppData\\Local\\Temp\\ipykernel_1492\\128067720.py:6: FutureWarning: suggest_int() got {'step'} as positional arguments but they were expected to be given as keyword arguments.\n",
            "  max_depth = trial.suggest_int('max_depth', 10, 30, 1)\n",
            "C:\\Users\\Mira\\AppData\\Local\\Temp\\ipykernel_1492\\128067720.py:7: FutureWarning: suggest_int() got {'step'} as positional arguments but they were expected to be given as keyword arguments.\n",
            "  min_samples_leaf = trial.suggest_int('min_samples_leaf', 2, 10, 1)\n",
            "[I 2024-03-29 23:53:38,903] Trial 15 finished with value: 0.9901719901719902 and parameters: {'n_estimators': 149, 'max_depth': 20, 'min_samples_leaf': 2}. Best is trial 10 with value: 0.9917254060680355.\n",
            "C:\\Users\\Mira\\AppData\\Local\\Temp\\ipykernel_1492\\128067720.py:5: FutureWarning: suggest_int() got {'step'} as positional arguments but they were expected to be given as keyword arguments.\n",
            "  n_estimators = trial.suggest_int('n_estimators', 100, 200, 1)\n",
            "C:\\Users\\Mira\\AppData\\Local\\Temp\\ipykernel_1492\\128067720.py:6: FutureWarning: suggest_int() got {'step'} as positional arguments but they were expected to be given as keyword arguments.\n",
            "  max_depth = trial.suggest_int('max_depth', 10, 30, 1)\n",
            "C:\\Users\\Mira\\AppData\\Local\\Temp\\ipykernel_1492\\128067720.py:7: FutureWarning: suggest_int() got {'step'} as positional arguments but they were expected to be given as keyword arguments.\n",
            "  min_samples_leaf = trial.suggest_int('min_samples_leaf', 2, 10, 1)\n",
            "[I 2024-03-29 23:53:40,887] Trial 16 finished with value: 0.9442583003350594 and parameters: {'n_estimators': 181, 'max_depth': 26, 'min_samples_leaf': 5}. Best is trial 10 with value: 0.9917254060680355.\n",
            "C:\\Users\\Mira\\AppData\\Local\\Temp\\ipykernel_1492\\128067720.py:5: FutureWarning: suggest_int() got {'step'} as positional arguments but they were expected to be given as keyword arguments.\n",
            "  n_estimators = trial.suggest_int('n_estimators', 100, 200, 1)\n",
            "C:\\Users\\Mira\\AppData\\Local\\Temp\\ipykernel_1492\\128067720.py:6: FutureWarning: suggest_int() got {'step'} as positional arguments but they were expected to be given as keyword arguments.\n",
            "  max_depth = trial.suggest_int('max_depth', 10, 30, 1)\n",
            "C:\\Users\\Mira\\AppData\\Local\\Temp\\ipykernel_1492\\128067720.py:7: FutureWarning: suggest_int() got {'step'} as positional arguments but they were expected to be given as keyword arguments.\n",
            "  min_samples_leaf = trial.suggest_int('min_samples_leaf', 2, 10, 1)\n",
            "[I 2024-03-29 23:53:41,864] Trial 17 finished with value: 0.8954587016153611 and parameters: {'n_estimators': 103, 'max_depth': 23, 'min_samples_leaf': 10}. Best is trial 10 with value: 0.9917254060680355.\n",
            "C:\\Users\\Mira\\AppData\\Local\\Temp\\ipykernel_1492\\128067720.py:5: FutureWarning: suggest_int() got {'step'} as positional arguments but they were expected to be given as keyword arguments.\n",
            "  n_estimators = trial.suggest_int('n_estimators', 100, 200, 1)\n",
            "C:\\Users\\Mira\\AppData\\Local\\Temp\\ipykernel_1492\\128067720.py:6: FutureWarning: suggest_int() got {'step'} as positional arguments but they were expected to be given as keyword arguments.\n",
            "  max_depth = trial.suggest_int('max_depth', 10, 30, 1)\n",
            "C:\\Users\\Mira\\AppData\\Local\\Temp\\ipykernel_1492\\128067720.py:7: FutureWarning: suggest_int() got {'step'} as positional arguments but they were expected to be given as keyword arguments.\n",
            "  min_samples_leaf = trial.suggest_int('min_samples_leaf', 2, 10, 1)\n",
            "[I 2024-03-29 23:53:43,687] Trial 18 finished with value: 0.9685496183206107 and parameters: {'n_estimators': 150, 'max_depth': 19, 'min_samples_leaf': 3}. Best is trial 10 with value: 0.9917254060680355.\n",
            "C:\\Users\\Mira\\AppData\\Local\\Temp\\ipykernel_1492\\128067720.py:5: FutureWarning: suggest_int() got {'step'} as positional arguments but they were expected to be given as keyword arguments.\n",
            "  n_estimators = trial.suggest_int('n_estimators', 100, 200, 1)\n",
            "C:\\Users\\Mira\\AppData\\Local\\Temp\\ipykernel_1492\\128067720.py:6: FutureWarning: suggest_int() got {'step'} as positional arguments but they were expected to be given as keyword arguments.\n",
            "  max_depth = trial.suggest_int('max_depth', 10, 30, 1)\n",
            "C:\\Users\\Mira\\AppData\\Local\\Temp\\ipykernel_1492\\128067720.py:7: FutureWarning: suggest_int() got {'step'} as positional arguments but they were expected to be given as keyword arguments.\n",
            "  min_samples_leaf = trial.suggest_int('min_samples_leaf', 2, 10, 1)\n",
            "[I 2024-03-29 23:53:45,188] Trial 19 finished with value: 0.9749235474006116 and parameters: {'n_estimators': 122, 'max_depth': 28, 'min_samples_leaf': 3}. Best is trial 10 with value: 0.9917254060680355.\n"
          ]
        },
        {
          "name": "stdout",
          "output_type": "stream",
          "text": [
            "CPU times: total: 25.9 s\n",
            "Wall time: 36.8 s\n"
          ]
        }
      ],
      "source": [
        "%%time\n",
        "# cоздаем объект исследования\n",
        "# можем напрямую указать, что нам необходимо максимизировать метрику direction=\"maximize\"\n",
        "study = optuna.create_study(study_name='RandomForestClassifier', direction='maximize')\n",
        "# ищем лучшую комбинацию гиперпараметров n_trials раз\n",
        "study.optimize(optuna_fn, n_trials=20)"
      ]
    },
    {
      "cell_type": "code",
      "execution_count": 43,
      "metadata": {
        "colab": {
          "base_uri": "https://localhost:8080/"
        },
        "id": "_Wr8jhaPM917",
        "outputId": "628d8d17-6ece-4a51-d3e8-8d823c061d80"
      },
      "outputs": [
        {
          "name": "stdout",
          "output_type": "stream",
          "text": [
            "Наилучшие значения гиперпараметров {'n_estimators': 198, 'max_depth': 30, 'min_samples_leaf': 2}\n",
            "f1_score на обучающем наборе: 0.99\n"
          ]
        }
      ],
      "source": [
        "# выводим результаты на обучающей выборке\n",
        "print(\"Наилучшие значения гиперпараметров {}\".format(study.best_params))\n",
        "print(\"f1_score на обучающем наборе: {:.2f}\".format(study.best_value))"
      ]
    },
    {
      "cell_type": "code",
      "execution_count": 44,
      "metadata": {
        "colab": {
          "base_uri": "https://localhost:8080/"
        },
        "id": "EEr2RpdoNoin",
        "outputId": "0d107b35-ef5f-471e-aa94-0991c3c51249"
      },
      "outputs": [
        {
          "name": "stdout",
          "output_type": "stream",
          "text": [
            "accuracy на тестовом наборе: 0.81\n",
            "f1_score на тренировочном наборе: 0.99\n",
            "f1_score на тестовом наборе: 0.82\n"
          ]
        }
      ],
      "source": [
        "# рассчитаем точность для тестовой выборки\n",
        "model = ensemble.RandomForestClassifier(**study.best_params, random_state=42)\n",
        "model.fit(X_train, y_train)\n",
        "print(\"accuracy на тестовом наборе: {:.2f}\".format(model.score(X_test, y_test)))\n",
        "y_train_pred = model.predict(X_train)\n",
        "y_test_pred = model.predict(X_test)\n",
        "print('f1_score на тренировочном наборе: {:.2f}'.format(metrics.f1_score(y_train, y_train_pred)))\n",
        "print('f1_score на тестовом наборе: {:.2f}'.format(metrics.f1_score(y_test, y_test_pred)))"
      ]
    },
    {
      "cell_type": "markdown",
      "metadata": {
        "id": "ulvJCkTaO29S"
      },
      "source": [
        "Метрика значительно улучшилась, достигла значения при модели случайного леса по умолчанию, однако время потраченное на поиски гиперпараметров оказалось меньше чем во всех предыдущих методах."
      ]
    },
    {
      "cell_type": "markdown",
      "metadata": {
        "id": "AtH3fFg0O0YL"
      },
      "source": [
        "Графики истории оптимизации"
      ]
    },
    {
      "cell_type": "code",
      "execution_count": 45,
      "metadata": {
        "colab": {
          "base_uri": "https://localhost:8080/"
        },
        "id": "IcI1Jx9tOz22",
        "outputId": "8e69d27a-750d-4b53-aaf4-cb19b19fd93a"
      },
      "outputs": [
        {
          "data": {
            "text/plain": [
              "True"
            ]
          },
          "execution_count": 45,
          "metadata": {},
          "output_type": "execute_result"
        }
      ],
      "source": [
        "# Проверим доступность поддержки визуализации\n",
        "optuna.visualization.is_available()"
      ]
    },
    {
      "cell_type": "code",
      "execution_count": 46,
      "metadata": {
        "colab": {
          "base_uri": "https://localhost:8080/",
          "height": 542
        },
        "id": "h_CDCRmUPzrb",
        "outputId": "2b071e78-60a0-4033-be3b-667c85d36d99"
      },
      "outputs": [
        {
          "data": {
            "application/vnd.plotly.v1+json": {
              "config": {
                "plotlyServerURL": "https://plot.ly"
              },
              "data": [
                {
                  "mode": "markers",
                  "name": "f1_score",
                  "type": "scatter",
                  "x": [
                    0,
                    1,
                    2,
                    3,
                    4,
                    5,
                    6,
                    7,
                    8,
                    9,
                    10,
                    11,
                    12,
                    13,
                    14,
                    15,
                    16,
                    17,
                    18,
                    19
                  ],
                  "y": [
                    0.9215328467153284,
                    0.8873325213154689,
                    0.9105392156862745,
                    0.9132947976878613,
                    0.9481391092129348,
                    0.9917203311867525,
                    0.9252279635258359,
                    0.9669117647058824,
                    0.9324817518248175,
                    0.9089242053789731,
                    0.9917254060680355,
                    0.9917203311867525,
                    0.9575572519083969,
                    0.9908088235294118,
                    0.9584605986560782,
                    0.9901719901719902,
                    0.9442583003350594,
                    0.8954587016153611,
                    0.9685496183206107,
                    0.9749235474006116
                  ]
                },
                {
                  "mode": "lines",
                  "name": "Best Value",
                  "type": "scatter",
                  "x": [
                    0,
                    1,
                    2,
                    3,
                    4,
                    5,
                    6,
                    7,
                    8,
                    9,
                    10,
                    11,
                    12,
                    13,
                    14,
                    15,
                    16,
                    17,
                    18,
                    19
                  ],
                  "y": [
                    0.9215328467153284,
                    0.9215328467153284,
                    0.9215328467153284,
                    0.9215328467153284,
                    0.9481391092129348,
                    0.9917203311867525,
                    0.9917203311867525,
                    0.9917203311867525,
                    0.9917203311867525,
                    0.9917203311867525,
                    0.9917254060680355,
                    0.9917254060680355,
                    0.9917254060680355,
                    0.9917254060680355,
                    0.9917254060680355,
                    0.9917254060680355,
                    0.9917254060680355,
                    0.9917254060680355,
                    0.9917254060680355,
                    0.9917254060680355
                  ]
                },
                {
                  "marker": {
                    "color": "#cccccc"
                  },
                  "mode": "markers",
                  "name": "Infeasible Trial",
                  "showlegend": false,
                  "type": "scatter",
                  "x": [],
                  "y": []
                }
              ],
              "layout": {
                "template": {
                  "data": {
                    "bar": [
                      {
                        "error_x": {
                          "color": "#2a3f5f"
                        },
                        "error_y": {
                          "color": "#2a3f5f"
                        },
                        "marker": {
                          "line": {
                            "color": "#E5ECF6",
                            "width": 0.5
                          },
                          "pattern": {
                            "fillmode": "overlay",
                            "size": 10,
                            "solidity": 0.2
                          }
                        },
                        "type": "bar"
                      }
                    ],
                    "barpolar": [
                      {
                        "marker": {
                          "line": {
                            "color": "#E5ECF6",
                            "width": 0.5
                          },
                          "pattern": {
                            "fillmode": "overlay",
                            "size": 10,
                            "solidity": 0.2
                          }
                        },
                        "type": "barpolar"
                      }
                    ],
                    "carpet": [
                      {
                        "aaxis": {
                          "endlinecolor": "#2a3f5f",
                          "gridcolor": "white",
                          "linecolor": "white",
                          "minorgridcolor": "white",
                          "startlinecolor": "#2a3f5f"
                        },
                        "baxis": {
                          "endlinecolor": "#2a3f5f",
                          "gridcolor": "white",
                          "linecolor": "white",
                          "minorgridcolor": "white",
                          "startlinecolor": "#2a3f5f"
                        },
                        "type": "carpet"
                      }
                    ],
                    "choropleth": [
                      {
                        "colorbar": {
                          "outlinewidth": 0,
                          "ticks": ""
                        },
                        "type": "choropleth"
                      }
                    ],
                    "contour": [
                      {
                        "colorbar": {
                          "outlinewidth": 0,
                          "ticks": ""
                        },
                        "colorscale": [
                          [
                            0,
                            "#0d0887"
                          ],
                          [
                            0.1111111111111111,
                            "#46039f"
                          ],
                          [
                            0.2222222222222222,
                            "#7201a8"
                          ],
                          [
                            0.3333333333333333,
                            "#9c179e"
                          ],
                          [
                            0.4444444444444444,
                            "#bd3786"
                          ],
                          [
                            0.5555555555555556,
                            "#d8576b"
                          ],
                          [
                            0.6666666666666666,
                            "#ed7953"
                          ],
                          [
                            0.7777777777777778,
                            "#fb9f3a"
                          ],
                          [
                            0.8888888888888888,
                            "#fdca26"
                          ],
                          [
                            1,
                            "#f0f921"
                          ]
                        ],
                        "type": "contour"
                      }
                    ],
                    "contourcarpet": [
                      {
                        "colorbar": {
                          "outlinewidth": 0,
                          "ticks": ""
                        },
                        "type": "contourcarpet"
                      }
                    ],
                    "heatmap": [
                      {
                        "colorbar": {
                          "outlinewidth": 0,
                          "ticks": ""
                        },
                        "colorscale": [
                          [
                            0,
                            "#0d0887"
                          ],
                          [
                            0.1111111111111111,
                            "#46039f"
                          ],
                          [
                            0.2222222222222222,
                            "#7201a8"
                          ],
                          [
                            0.3333333333333333,
                            "#9c179e"
                          ],
                          [
                            0.4444444444444444,
                            "#bd3786"
                          ],
                          [
                            0.5555555555555556,
                            "#d8576b"
                          ],
                          [
                            0.6666666666666666,
                            "#ed7953"
                          ],
                          [
                            0.7777777777777778,
                            "#fb9f3a"
                          ],
                          [
                            0.8888888888888888,
                            "#fdca26"
                          ],
                          [
                            1,
                            "#f0f921"
                          ]
                        ],
                        "type": "heatmap"
                      }
                    ],
                    "heatmapgl": [
                      {
                        "colorbar": {
                          "outlinewidth": 0,
                          "ticks": ""
                        },
                        "colorscale": [
                          [
                            0,
                            "#0d0887"
                          ],
                          [
                            0.1111111111111111,
                            "#46039f"
                          ],
                          [
                            0.2222222222222222,
                            "#7201a8"
                          ],
                          [
                            0.3333333333333333,
                            "#9c179e"
                          ],
                          [
                            0.4444444444444444,
                            "#bd3786"
                          ],
                          [
                            0.5555555555555556,
                            "#d8576b"
                          ],
                          [
                            0.6666666666666666,
                            "#ed7953"
                          ],
                          [
                            0.7777777777777778,
                            "#fb9f3a"
                          ],
                          [
                            0.8888888888888888,
                            "#fdca26"
                          ],
                          [
                            1,
                            "#f0f921"
                          ]
                        ],
                        "type": "heatmapgl"
                      }
                    ],
                    "histogram": [
                      {
                        "marker": {
                          "pattern": {
                            "fillmode": "overlay",
                            "size": 10,
                            "solidity": 0.2
                          }
                        },
                        "type": "histogram"
                      }
                    ],
                    "histogram2d": [
                      {
                        "colorbar": {
                          "outlinewidth": 0,
                          "ticks": ""
                        },
                        "colorscale": [
                          [
                            0,
                            "#0d0887"
                          ],
                          [
                            0.1111111111111111,
                            "#46039f"
                          ],
                          [
                            0.2222222222222222,
                            "#7201a8"
                          ],
                          [
                            0.3333333333333333,
                            "#9c179e"
                          ],
                          [
                            0.4444444444444444,
                            "#bd3786"
                          ],
                          [
                            0.5555555555555556,
                            "#d8576b"
                          ],
                          [
                            0.6666666666666666,
                            "#ed7953"
                          ],
                          [
                            0.7777777777777778,
                            "#fb9f3a"
                          ],
                          [
                            0.8888888888888888,
                            "#fdca26"
                          ],
                          [
                            1,
                            "#f0f921"
                          ]
                        ],
                        "type": "histogram2d"
                      }
                    ],
                    "histogram2dcontour": [
                      {
                        "colorbar": {
                          "outlinewidth": 0,
                          "ticks": ""
                        },
                        "colorscale": [
                          [
                            0,
                            "#0d0887"
                          ],
                          [
                            0.1111111111111111,
                            "#46039f"
                          ],
                          [
                            0.2222222222222222,
                            "#7201a8"
                          ],
                          [
                            0.3333333333333333,
                            "#9c179e"
                          ],
                          [
                            0.4444444444444444,
                            "#bd3786"
                          ],
                          [
                            0.5555555555555556,
                            "#d8576b"
                          ],
                          [
                            0.6666666666666666,
                            "#ed7953"
                          ],
                          [
                            0.7777777777777778,
                            "#fb9f3a"
                          ],
                          [
                            0.8888888888888888,
                            "#fdca26"
                          ],
                          [
                            1,
                            "#f0f921"
                          ]
                        ],
                        "type": "histogram2dcontour"
                      }
                    ],
                    "mesh3d": [
                      {
                        "colorbar": {
                          "outlinewidth": 0,
                          "ticks": ""
                        },
                        "type": "mesh3d"
                      }
                    ],
                    "parcoords": [
                      {
                        "line": {
                          "colorbar": {
                            "outlinewidth": 0,
                            "ticks": ""
                          }
                        },
                        "type": "parcoords"
                      }
                    ],
                    "pie": [
                      {
                        "automargin": true,
                        "type": "pie"
                      }
                    ],
                    "scatter": [
                      {
                        "fillpattern": {
                          "fillmode": "overlay",
                          "size": 10,
                          "solidity": 0.2
                        },
                        "type": "scatter"
                      }
                    ],
                    "scatter3d": [
                      {
                        "line": {
                          "colorbar": {
                            "outlinewidth": 0,
                            "ticks": ""
                          }
                        },
                        "marker": {
                          "colorbar": {
                            "outlinewidth": 0,
                            "ticks": ""
                          }
                        },
                        "type": "scatter3d"
                      }
                    ],
                    "scattercarpet": [
                      {
                        "marker": {
                          "colorbar": {
                            "outlinewidth": 0,
                            "ticks": ""
                          }
                        },
                        "type": "scattercarpet"
                      }
                    ],
                    "scattergeo": [
                      {
                        "marker": {
                          "colorbar": {
                            "outlinewidth": 0,
                            "ticks": ""
                          }
                        },
                        "type": "scattergeo"
                      }
                    ],
                    "scattergl": [
                      {
                        "marker": {
                          "colorbar": {
                            "outlinewidth": 0,
                            "ticks": ""
                          }
                        },
                        "type": "scattergl"
                      }
                    ],
                    "scattermapbox": [
                      {
                        "marker": {
                          "colorbar": {
                            "outlinewidth": 0,
                            "ticks": ""
                          }
                        },
                        "type": "scattermapbox"
                      }
                    ],
                    "scatterpolar": [
                      {
                        "marker": {
                          "colorbar": {
                            "outlinewidth": 0,
                            "ticks": ""
                          }
                        },
                        "type": "scatterpolar"
                      }
                    ],
                    "scatterpolargl": [
                      {
                        "marker": {
                          "colorbar": {
                            "outlinewidth": 0,
                            "ticks": ""
                          }
                        },
                        "type": "scatterpolargl"
                      }
                    ],
                    "scatterternary": [
                      {
                        "marker": {
                          "colorbar": {
                            "outlinewidth": 0,
                            "ticks": ""
                          }
                        },
                        "type": "scatterternary"
                      }
                    ],
                    "surface": [
                      {
                        "colorbar": {
                          "outlinewidth": 0,
                          "ticks": ""
                        },
                        "colorscale": [
                          [
                            0,
                            "#0d0887"
                          ],
                          [
                            0.1111111111111111,
                            "#46039f"
                          ],
                          [
                            0.2222222222222222,
                            "#7201a8"
                          ],
                          [
                            0.3333333333333333,
                            "#9c179e"
                          ],
                          [
                            0.4444444444444444,
                            "#bd3786"
                          ],
                          [
                            0.5555555555555556,
                            "#d8576b"
                          ],
                          [
                            0.6666666666666666,
                            "#ed7953"
                          ],
                          [
                            0.7777777777777778,
                            "#fb9f3a"
                          ],
                          [
                            0.8888888888888888,
                            "#fdca26"
                          ],
                          [
                            1,
                            "#f0f921"
                          ]
                        ],
                        "type": "surface"
                      }
                    ],
                    "table": [
                      {
                        "cells": {
                          "fill": {
                            "color": "#EBF0F8"
                          },
                          "line": {
                            "color": "white"
                          }
                        },
                        "header": {
                          "fill": {
                            "color": "#C8D4E3"
                          },
                          "line": {
                            "color": "white"
                          }
                        },
                        "type": "table"
                      }
                    ]
                  },
                  "layout": {
                    "annotationdefaults": {
                      "arrowcolor": "#2a3f5f",
                      "arrowhead": 0,
                      "arrowwidth": 1
                    },
                    "autotypenumbers": "strict",
                    "coloraxis": {
                      "colorbar": {
                        "outlinewidth": 0,
                        "ticks": ""
                      }
                    },
                    "colorscale": {
                      "diverging": [
                        [
                          0,
                          "#8e0152"
                        ],
                        [
                          0.1,
                          "#c51b7d"
                        ],
                        [
                          0.2,
                          "#de77ae"
                        ],
                        [
                          0.3,
                          "#f1b6da"
                        ],
                        [
                          0.4,
                          "#fde0ef"
                        ],
                        [
                          0.5,
                          "#f7f7f7"
                        ],
                        [
                          0.6,
                          "#e6f5d0"
                        ],
                        [
                          0.7,
                          "#b8e186"
                        ],
                        [
                          0.8,
                          "#7fbc41"
                        ],
                        [
                          0.9,
                          "#4d9221"
                        ],
                        [
                          1,
                          "#276419"
                        ]
                      ],
                      "sequential": [
                        [
                          0,
                          "#0d0887"
                        ],
                        [
                          0.1111111111111111,
                          "#46039f"
                        ],
                        [
                          0.2222222222222222,
                          "#7201a8"
                        ],
                        [
                          0.3333333333333333,
                          "#9c179e"
                        ],
                        [
                          0.4444444444444444,
                          "#bd3786"
                        ],
                        [
                          0.5555555555555556,
                          "#d8576b"
                        ],
                        [
                          0.6666666666666666,
                          "#ed7953"
                        ],
                        [
                          0.7777777777777778,
                          "#fb9f3a"
                        ],
                        [
                          0.8888888888888888,
                          "#fdca26"
                        ],
                        [
                          1,
                          "#f0f921"
                        ]
                      ],
                      "sequentialminus": [
                        [
                          0,
                          "#0d0887"
                        ],
                        [
                          0.1111111111111111,
                          "#46039f"
                        ],
                        [
                          0.2222222222222222,
                          "#7201a8"
                        ],
                        [
                          0.3333333333333333,
                          "#9c179e"
                        ],
                        [
                          0.4444444444444444,
                          "#bd3786"
                        ],
                        [
                          0.5555555555555556,
                          "#d8576b"
                        ],
                        [
                          0.6666666666666666,
                          "#ed7953"
                        ],
                        [
                          0.7777777777777778,
                          "#fb9f3a"
                        ],
                        [
                          0.8888888888888888,
                          "#fdca26"
                        ],
                        [
                          1,
                          "#f0f921"
                        ]
                      ]
                    },
                    "colorway": [
                      "#636efa",
                      "#EF553B",
                      "#00cc96",
                      "#ab63fa",
                      "#FFA15A",
                      "#19d3f3",
                      "#FF6692",
                      "#B6E880",
                      "#FF97FF",
                      "#FECB52"
                    ],
                    "font": {
                      "color": "#2a3f5f"
                    },
                    "geo": {
                      "bgcolor": "white",
                      "lakecolor": "white",
                      "landcolor": "#E5ECF6",
                      "showlakes": true,
                      "showland": true,
                      "subunitcolor": "white"
                    },
                    "hoverlabel": {
                      "align": "left"
                    },
                    "hovermode": "closest",
                    "mapbox": {
                      "style": "light"
                    },
                    "paper_bgcolor": "white",
                    "plot_bgcolor": "#E5ECF6",
                    "polar": {
                      "angularaxis": {
                        "gridcolor": "white",
                        "linecolor": "white",
                        "ticks": ""
                      },
                      "bgcolor": "#E5ECF6",
                      "radialaxis": {
                        "gridcolor": "white",
                        "linecolor": "white",
                        "ticks": ""
                      }
                    },
                    "scene": {
                      "xaxis": {
                        "backgroundcolor": "#E5ECF6",
                        "gridcolor": "white",
                        "gridwidth": 2,
                        "linecolor": "white",
                        "showbackground": true,
                        "ticks": "",
                        "zerolinecolor": "white"
                      },
                      "yaxis": {
                        "backgroundcolor": "#E5ECF6",
                        "gridcolor": "white",
                        "gridwidth": 2,
                        "linecolor": "white",
                        "showbackground": true,
                        "ticks": "",
                        "zerolinecolor": "white"
                      },
                      "zaxis": {
                        "backgroundcolor": "#E5ECF6",
                        "gridcolor": "white",
                        "gridwidth": 2,
                        "linecolor": "white",
                        "showbackground": true,
                        "ticks": "",
                        "zerolinecolor": "white"
                      }
                    },
                    "shapedefaults": {
                      "line": {
                        "color": "#2a3f5f"
                      }
                    },
                    "ternary": {
                      "aaxis": {
                        "gridcolor": "white",
                        "linecolor": "white",
                        "ticks": ""
                      },
                      "baxis": {
                        "gridcolor": "white",
                        "linecolor": "white",
                        "ticks": ""
                      },
                      "bgcolor": "#E5ECF6",
                      "caxis": {
                        "gridcolor": "white",
                        "linecolor": "white",
                        "ticks": ""
                      }
                    },
                    "title": {
                      "x": 0.05
                    },
                    "xaxis": {
                      "automargin": true,
                      "gridcolor": "white",
                      "linecolor": "white",
                      "ticks": "",
                      "title": {
                        "standoff": 15
                      },
                      "zerolinecolor": "white",
                      "zerolinewidth": 2
                    },
                    "yaxis": {
                      "automargin": true,
                      "gridcolor": "white",
                      "linecolor": "white",
                      "ticks": "",
                      "title": {
                        "standoff": 15
                      },
                      "zerolinecolor": "white",
                      "zerolinewidth": 2
                    }
                  }
                },
                "title": {
                  "text": "Optimization History Plot"
                },
                "xaxis": {
                  "title": {
                    "text": "Trial"
                  }
                },
                "yaxis": {
                  "title": {
                    "text": "f1_score"
                  }
                }
              }
            }
          },
          "metadata": {},
          "output_type": "display_data"
        }
      ],
      "source": [
        "optuna.visualization.plot_optimization_history(study, target_name = 'f1_score')"
      ]
    },
    {
      "cell_type": "markdown",
      "metadata": {
        "id": "TWg7icnyQiR9"
      },
      "source": [
        "График важности гиперпараметров"
      ]
    },
    {
      "cell_type": "code",
      "execution_count": 47,
      "metadata": {
        "colab": {
          "base_uri": "https://localhost:8080/",
          "height": 542
        },
        "id": "gmnl2UhhQMD4",
        "outputId": "00c91107-78ad-49d2-e301-6c5632f17c80"
      },
      "outputs": [
        {
          "data": {
            "application/vnd.plotly.v1+json": {
              "config": {
                "plotlyServerURL": "https://plot.ly"
              },
              "data": [
                {
                  "cliponaxis": false,
                  "hovertemplate": [
                    "n_estimators (IntDistribution): 0.032624848470175084<extra></extra>",
                    "max_depth (IntDistribution): 0.05290109151891354<extra></extra>",
                    "min_samples_leaf (IntDistribution): 0.9144740600109114<extra></extra>"
                  ],
                  "name": "f1_score",
                  "orientation": "h",
                  "text": [
                    "0.03",
                    "0.05",
                    "0.91"
                  ],
                  "textposition": "outside",
                  "type": "bar",
                  "x": [
                    0.032624848470175084,
                    0.05290109151891354,
                    0.9144740600109114
                  ],
                  "y": [
                    "n_estimators",
                    "max_depth",
                    "min_samples_leaf"
                  ]
                }
              ],
              "layout": {
                "template": {
                  "data": {
                    "bar": [
                      {
                        "error_x": {
                          "color": "#2a3f5f"
                        },
                        "error_y": {
                          "color": "#2a3f5f"
                        },
                        "marker": {
                          "line": {
                            "color": "#E5ECF6",
                            "width": 0.5
                          },
                          "pattern": {
                            "fillmode": "overlay",
                            "size": 10,
                            "solidity": 0.2
                          }
                        },
                        "type": "bar"
                      }
                    ],
                    "barpolar": [
                      {
                        "marker": {
                          "line": {
                            "color": "#E5ECF6",
                            "width": 0.5
                          },
                          "pattern": {
                            "fillmode": "overlay",
                            "size": 10,
                            "solidity": 0.2
                          }
                        },
                        "type": "barpolar"
                      }
                    ],
                    "carpet": [
                      {
                        "aaxis": {
                          "endlinecolor": "#2a3f5f",
                          "gridcolor": "white",
                          "linecolor": "white",
                          "minorgridcolor": "white",
                          "startlinecolor": "#2a3f5f"
                        },
                        "baxis": {
                          "endlinecolor": "#2a3f5f",
                          "gridcolor": "white",
                          "linecolor": "white",
                          "minorgridcolor": "white",
                          "startlinecolor": "#2a3f5f"
                        },
                        "type": "carpet"
                      }
                    ],
                    "choropleth": [
                      {
                        "colorbar": {
                          "outlinewidth": 0,
                          "ticks": ""
                        },
                        "type": "choropleth"
                      }
                    ],
                    "contour": [
                      {
                        "colorbar": {
                          "outlinewidth": 0,
                          "ticks": ""
                        },
                        "colorscale": [
                          [
                            0,
                            "#0d0887"
                          ],
                          [
                            0.1111111111111111,
                            "#46039f"
                          ],
                          [
                            0.2222222222222222,
                            "#7201a8"
                          ],
                          [
                            0.3333333333333333,
                            "#9c179e"
                          ],
                          [
                            0.4444444444444444,
                            "#bd3786"
                          ],
                          [
                            0.5555555555555556,
                            "#d8576b"
                          ],
                          [
                            0.6666666666666666,
                            "#ed7953"
                          ],
                          [
                            0.7777777777777778,
                            "#fb9f3a"
                          ],
                          [
                            0.8888888888888888,
                            "#fdca26"
                          ],
                          [
                            1,
                            "#f0f921"
                          ]
                        ],
                        "type": "contour"
                      }
                    ],
                    "contourcarpet": [
                      {
                        "colorbar": {
                          "outlinewidth": 0,
                          "ticks": ""
                        },
                        "type": "contourcarpet"
                      }
                    ],
                    "heatmap": [
                      {
                        "colorbar": {
                          "outlinewidth": 0,
                          "ticks": ""
                        },
                        "colorscale": [
                          [
                            0,
                            "#0d0887"
                          ],
                          [
                            0.1111111111111111,
                            "#46039f"
                          ],
                          [
                            0.2222222222222222,
                            "#7201a8"
                          ],
                          [
                            0.3333333333333333,
                            "#9c179e"
                          ],
                          [
                            0.4444444444444444,
                            "#bd3786"
                          ],
                          [
                            0.5555555555555556,
                            "#d8576b"
                          ],
                          [
                            0.6666666666666666,
                            "#ed7953"
                          ],
                          [
                            0.7777777777777778,
                            "#fb9f3a"
                          ],
                          [
                            0.8888888888888888,
                            "#fdca26"
                          ],
                          [
                            1,
                            "#f0f921"
                          ]
                        ],
                        "type": "heatmap"
                      }
                    ],
                    "heatmapgl": [
                      {
                        "colorbar": {
                          "outlinewidth": 0,
                          "ticks": ""
                        },
                        "colorscale": [
                          [
                            0,
                            "#0d0887"
                          ],
                          [
                            0.1111111111111111,
                            "#46039f"
                          ],
                          [
                            0.2222222222222222,
                            "#7201a8"
                          ],
                          [
                            0.3333333333333333,
                            "#9c179e"
                          ],
                          [
                            0.4444444444444444,
                            "#bd3786"
                          ],
                          [
                            0.5555555555555556,
                            "#d8576b"
                          ],
                          [
                            0.6666666666666666,
                            "#ed7953"
                          ],
                          [
                            0.7777777777777778,
                            "#fb9f3a"
                          ],
                          [
                            0.8888888888888888,
                            "#fdca26"
                          ],
                          [
                            1,
                            "#f0f921"
                          ]
                        ],
                        "type": "heatmapgl"
                      }
                    ],
                    "histogram": [
                      {
                        "marker": {
                          "pattern": {
                            "fillmode": "overlay",
                            "size": 10,
                            "solidity": 0.2
                          }
                        },
                        "type": "histogram"
                      }
                    ],
                    "histogram2d": [
                      {
                        "colorbar": {
                          "outlinewidth": 0,
                          "ticks": ""
                        },
                        "colorscale": [
                          [
                            0,
                            "#0d0887"
                          ],
                          [
                            0.1111111111111111,
                            "#46039f"
                          ],
                          [
                            0.2222222222222222,
                            "#7201a8"
                          ],
                          [
                            0.3333333333333333,
                            "#9c179e"
                          ],
                          [
                            0.4444444444444444,
                            "#bd3786"
                          ],
                          [
                            0.5555555555555556,
                            "#d8576b"
                          ],
                          [
                            0.6666666666666666,
                            "#ed7953"
                          ],
                          [
                            0.7777777777777778,
                            "#fb9f3a"
                          ],
                          [
                            0.8888888888888888,
                            "#fdca26"
                          ],
                          [
                            1,
                            "#f0f921"
                          ]
                        ],
                        "type": "histogram2d"
                      }
                    ],
                    "histogram2dcontour": [
                      {
                        "colorbar": {
                          "outlinewidth": 0,
                          "ticks": ""
                        },
                        "colorscale": [
                          [
                            0,
                            "#0d0887"
                          ],
                          [
                            0.1111111111111111,
                            "#46039f"
                          ],
                          [
                            0.2222222222222222,
                            "#7201a8"
                          ],
                          [
                            0.3333333333333333,
                            "#9c179e"
                          ],
                          [
                            0.4444444444444444,
                            "#bd3786"
                          ],
                          [
                            0.5555555555555556,
                            "#d8576b"
                          ],
                          [
                            0.6666666666666666,
                            "#ed7953"
                          ],
                          [
                            0.7777777777777778,
                            "#fb9f3a"
                          ],
                          [
                            0.8888888888888888,
                            "#fdca26"
                          ],
                          [
                            1,
                            "#f0f921"
                          ]
                        ],
                        "type": "histogram2dcontour"
                      }
                    ],
                    "mesh3d": [
                      {
                        "colorbar": {
                          "outlinewidth": 0,
                          "ticks": ""
                        },
                        "type": "mesh3d"
                      }
                    ],
                    "parcoords": [
                      {
                        "line": {
                          "colorbar": {
                            "outlinewidth": 0,
                            "ticks": ""
                          }
                        },
                        "type": "parcoords"
                      }
                    ],
                    "pie": [
                      {
                        "automargin": true,
                        "type": "pie"
                      }
                    ],
                    "scatter": [
                      {
                        "fillpattern": {
                          "fillmode": "overlay",
                          "size": 10,
                          "solidity": 0.2
                        },
                        "type": "scatter"
                      }
                    ],
                    "scatter3d": [
                      {
                        "line": {
                          "colorbar": {
                            "outlinewidth": 0,
                            "ticks": ""
                          }
                        },
                        "marker": {
                          "colorbar": {
                            "outlinewidth": 0,
                            "ticks": ""
                          }
                        },
                        "type": "scatter3d"
                      }
                    ],
                    "scattercarpet": [
                      {
                        "marker": {
                          "colorbar": {
                            "outlinewidth": 0,
                            "ticks": ""
                          }
                        },
                        "type": "scattercarpet"
                      }
                    ],
                    "scattergeo": [
                      {
                        "marker": {
                          "colorbar": {
                            "outlinewidth": 0,
                            "ticks": ""
                          }
                        },
                        "type": "scattergeo"
                      }
                    ],
                    "scattergl": [
                      {
                        "marker": {
                          "colorbar": {
                            "outlinewidth": 0,
                            "ticks": ""
                          }
                        },
                        "type": "scattergl"
                      }
                    ],
                    "scattermapbox": [
                      {
                        "marker": {
                          "colorbar": {
                            "outlinewidth": 0,
                            "ticks": ""
                          }
                        },
                        "type": "scattermapbox"
                      }
                    ],
                    "scatterpolar": [
                      {
                        "marker": {
                          "colorbar": {
                            "outlinewidth": 0,
                            "ticks": ""
                          }
                        },
                        "type": "scatterpolar"
                      }
                    ],
                    "scatterpolargl": [
                      {
                        "marker": {
                          "colorbar": {
                            "outlinewidth": 0,
                            "ticks": ""
                          }
                        },
                        "type": "scatterpolargl"
                      }
                    ],
                    "scatterternary": [
                      {
                        "marker": {
                          "colorbar": {
                            "outlinewidth": 0,
                            "ticks": ""
                          }
                        },
                        "type": "scatterternary"
                      }
                    ],
                    "surface": [
                      {
                        "colorbar": {
                          "outlinewidth": 0,
                          "ticks": ""
                        },
                        "colorscale": [
                          [
                            0,
                            "#0d0887"
                          ],
                          [
                            0.1111111111111111,
                            "#46039f"
                          ],
                          [
                            0.2222222222222222,
                            "#7201a8"
                          ],
                          [
                            0.3333333333333333,
                            "#9c179e"
                          ],
                          [
                            0.4444444444444444,
                            "#bd3786"
                          ],
                          [
                            0.5555555555555556,
                            "#d8576b"
                          ],
                          [
                            0.6666666666666666,
                            "#ed7953"
                          ],
                          [
                            0.7777777777777778,
                            "#fb9f3a"
                          ],
                          [
                            0.8888888888888888,
                            "#fdca26"
                          ],
                          [
                            1,
                            "#f0f921"
                          ]
                        ],
                        "type": "surface"
                      }
                    ],
                    "table": [
                      {
                        "cells": {
                          "fill": {
                            "color": "#EBF0F8"
                          },
                          "line": {
                            "color": "white"
                          }
                        },
                        "header": {
                          "fill": {
                            "color": "#C8D4E3"
                          },
                          "line": {
                            "color": "white"
                          }
                        },
                        "type": "table"
                      }
                    ]
                  },
                  "layout": {
                    "annotationdefaults": {
                      "arrowcolor": "#2a3f5f",
                      "arrowhead": 0,
                      "arrowwidth": 1
                    },
                    "autotypenumbers": "strict",
                    "coloraxis": {
                      "colorbar": {
                        "outlinewidth": 0,
                        "ticks": ""
                      }
                    },
                    "colorscale": {
                      "diverging": [
                        [
                          0,
                          "#8e0152"
                        ],
                        [
                          0.1,
                          "#c51b7d"
                        ],
                        [
                          0.2,
                          "#de77ae"
                        ],
                        [
                          0.3,
                          "#f1b6da"
                        ],
                        [
                          0.4,
                          "#fde0ef"
                        ],
                        [
                          0.5,
                          "#f7f7f7"
                        ],
                        [
                          0.6,
                          "#e6f5d0"
                        ],
                        [
                          0.7,
                          "#b8e186"
                        ],
                        [
                          0.8,
                          "#7fbc41"
                        ],
                        [
                          0.9,
                          "#4d9221"
                        ],
                        [
                          1,
                          "#276419"
                        ]
                      ],
                      "sequential": [
                        [
                          0,
                          "#0d0887"
                        ],
                        [
                          0.1111111111111111,
                          "#46039f"
                        ],
                        [
                          0.2222222222222222,
                          "#7201a8"
                        ],
                        [
                          0.3333333333333333,
                          "#9c179e"
                        ],
                        [
                          0.4444444444444444,
                          "#bd3786"
                        ],
                        [
                          0.5555555555555556,
                          "#d8576b"
                        ],
                        [
                          0.6666666666666666,
                          "#ed7953"
                        ],
                        [
                          0.7777777777777778,
                          "#fb9f3a"
                        ],
                        [
                          0.8888888888888888,
                          "#fdca26"
                        ],
                        [
                          1,
                          "#f0f921"
                        ]
                      ],
                      "sequentialminus": [
                        [
                          0,
                          "#0d0887"
                        ],
                        [
                          0.1111111111111111,
                          "#46039f"
                        ],
                        [
                          0.2222222222222222,
                          "#7201a8"
                        ],
                        [
                          0.3333333333333333,
                          "#9c179e"
                        ],
                        [
                          0.4444444444444444,
                          "#bd3786"
                        ],
                        [
                          0.5555555555555556,
                          "#d8576b"
                        ],
                        [
                          0.6666666666666666,
                          "#ed7953"
                        ],
                        [
                          0.7777777777777778,
                          "#fb9f3a"
                        ],
                        [
                          0.8888888888888888,
                          "#fdca26"
                        ],
                        [
                          1,
                          "#f0f921"
                        ]
                      ]
                    },
                    "colorway": [
                      "#636efa",
                      "#EF553B",
                      "#00cc96",
                      "#ab63fa",
                      "#FFA15A",
                      "#19d3f3",
                      "#FF6692",
                      "#B6E880",
                      "#FF97FF",
                      "#FECB52"
                    ],
                    "font": {
                      "color": "#2a3f5f"
                    },
                    "geo": {
                      "bgcolor": "white",
                      "lakecolor": "white",
                      "landcolor": "#E5ECF6",
                      "showlakes": true,
                      "showland": true,
                      "subunitcolor": "white"
                    },
                    "hoverlabel": {
                      "align": "left"
                    },
                    "hovermode": "closest",
                    "mapbox": {
                      "style": "light"
                    },
                    "paper_bgcolor": "white",
                    "plot_bgcolor": "#E5ECF6",
                    "polar": {
                      "angularaxis": {
                        "gridcolor": "white",
                        "linecolor": "white",
                        "ticks": ""
                      },
                      "bgcolor": "#E5ECF6",
                      "radialaxis": {
                        "gridcolor": "white",
                        "linecolor": "white",
                        "ticks": ""
                      }
                    },
                    "scene": {
                      "xaxis": {
                        "backgroundcolor": "#E5ECF6",
                        "gridcolor": "white",
                        "gridwidth": 2,
                        "linecolor": "white",
                        "showbackground": true,
                        "ticks": "",
                        "zerolinecolor": "white"
                      },
                      "yaxis": {
                        "backgroundcolor": "#E5ECF6",
                        "gridcolor": "white",
                        "gridwidth": 2,
                        "linecolor": "white",
                        "showbackground": true,
                        "ticks": "",
                        "zerolinecolor": "white"
                      },
                      "zaxis": {
                        "backgroundcolor": "#E5ECF6",
                        "gridcolor": "white",
                        "gridwidth": 2,
                        "linecolor": "white",
                        "showbackground": true,
                        "ticks": "",
                        "zerolinecolor": "white"
                      }
                    },
                    "shapedefaults": {
                      "line": {
                        "color": "#2a3f5f"
                      }
                    },
                    "ternary": {
                      "aaxis": {
                        "gridcolor": "white",
                        "linecolor": "white",
                        "ticks": ""
                      },
                      "baxis": {
                        "gridcolor": "white",
                        "linecolor": "white",
                        "ticks": ""
                      },
                      "bgcolor": "#E5ECF6",
                      "caxis": {
                        "gridcolor": "white",
                        "linecolor": "white",
                        "ticks": ""
                      }
                    },
                    "title": {
                      "x": 0.05
                    },
                    "xaxis": {
                      "automargin": true,
                      "gridcolor": "white",
                      "linecolor": "white",
                      "ticks": "",
                      "title": {
                        "standoff": 15
                      },
                      "zerolinecolor": "white",
                      "zerolinewidth": 2
                    },
                    "yaxis": {
                      "automargin": true,
                      "gridcolor": "white",
                      "linecolor": "white",
                      "ticks": "",
                      "title": {
                        "standoff": 15
                      },
                      "zerolinecolor": "white",
                      "zerolinewidth": 2
                    }
                  }
                },
                "title": {
                  "text": "Hyperparameter Importances"
                },
                "xaxis": {
                  "title": {
                    "text": "Hyperparameter Importance"
                  }
                },
                "yaxis": {
                  "title": {
                    "text": "Hyperparameter"
                  }
                }
              }
            }
          },
          "metadata": {},
          "output_type": "display_data"
        }
      ],
      "source": [
        "optuna.visualization.plot_param_importances(study, target_name = 'f1_score')"
      ]
    },
    {
      "cell_type": "markdown",
      "metadata": {
        "id": "qdiUSw8XQrtD"
      },
      "source": [
        "График контура отношений гиперпараметров"
      ]
    },
    {
      "cell_type": "code",
      "execution_count": 48,
      "metadata": {
        "colab": {
          "base_uri": "https://localhost:8080/",
          "height": 542
        },
        "id": "eOsPKjU2QsgW",
        "outputId": "7f373351-106c-45c0-d28c-2bc1d248671a"
      },
      "outputs": [
        {
          "data": {
            "application/vnd.plotly.v1+json": {
              "config": {
                "plotlyServerURL": "https://plot.ly"
              },
              "data": [
                {
                  "colorbar": {
                    "title": {
                      "text": "f1_score"
                    }
                  },
                  "colorscale": [
                    [
                      0,
                      "rgb(247,251,255)"
                    ],
                    [
                      0.125,
                      "rgb(222,235,247)"
                    ],
                    [
                      0.25,
                      "rgb(198,219,239)"
                    ],
                    [
                      0.375,
                      "rgb(158,202,225)"
                    ],
                    [
                      0.5,
                      "rgb(107,174,214)"
                    ],
                    [
                      0.625,
                      "rgb(66,146,198)"
                    ],
                    [
                      0.75,
                      "rgb(33,113,181)"
                    ],
                    [
                      0.875,
                      "rgb(8,81,156)"
                    ],
                    [
                      1,
                      "rgb(8,48,107)"
                    ]
                  ],
                  "connectgaps": true,
                  "contours": {
                    "coloring": "heatmap"
                  },
                  "hoverinfo": "none",
                  "line": {
                    "smoothing": 1.3
                  },
                  "reversescale": false,
                  "type": "contour",
                  "x": [
                    9,
                    10,
                    12,
                    14,
                    15,
                    16,
                    19,
                    20,
                    22,
                    23,
                    25,
                    26,
                    28,
                    29,
                    30,
                    31
                  ],
                  "y": [
                    95.1,
                    100,
                    103,
                    122,
                    133,
                    136,
                    141,
                    148,
                    149,
                    150,
                    157,
                    161,
                    170,
                    172,
                    181,
                    183,
                    194,
                    198,
                    202.9
                  ],
                  "z": [
                    [
                      null,
                      null,
                      null,
                      null,
                      null,
                      null,
                      null,
                      null,
                      null,
                      null,
                      null,
                      null,
                      null,
                      null,
                      null,
                      null
                    ],
                    [
                      null,
                      null,
                      0.9089242053789731,
                      null,
                      null,
                      null,
                      null,
                      null,
                      null,
                      null,
                      null,
                      null,
                      null,
                      null,
                      null,
                      null
                    ],
                    [
                      null,
                      null,
                      null,
                      null,
                      null,
                      null,
                      null,
                      null,
                      null,
                      0.8954587016153611,
                      null,
                      null,
                      null,
                      null,
                      null,
                      null
                    ],
                    [
                      null,
                      null,
                      0.9105392156862745,
                      null,
                      null,
                      null,
                      null,
                      null,
                      null,
                      null,
                      null,
                      null,
                      0.9749235474006116,
                      0.9215328467153284,
                      null,
                      null
                    ],
                    [
                      null,
                      null,
                      null,
                      null,
                      null,
                      0.9669117647058824,
                      null,
                      null,
                      null,
                      null,
                      null,
                      null,
                      null,
                      null,
                      null,
                      null
                    ],
                    [
                      null,
                      null,
                      null,
                      null,
                      0.9132947976878613,
                      null,
                      null,
                      null,
                      null,
                      null,
                      null,
                      null,
                      null,
                      null,
                      null,
                      null
                    ],
                    [
                      null,
                      null,
                      null,
                      0.9252279635258359,
                      null,
                      null,
                      null,
                      null,
                      null,
                      null,
                      null,
                      null,
                      null,
                      null,
                      null,
                      null
                    ],
                    [
                      null,
                      null,
                      null,
                      null,
                      null,
                      null,
                      null,
                      null,
                      null,
                      null,
                      null,
                      null,
                      null,
                      null,
                      0.9917203311867525,
                      null
                    ],
                    [
                      null,
                      null,
                      null,
                      null,
                      null,
                      null,
                      null,
                      0.9901719901719902,
                      null,
                      null,
                      null,
                      null,
                      null,
                      null,
                      null,
                      null
                    ],
                    [
                      null,
                      null,
                      null,
                      null,
                      null,
                      null,
                      0.9685496183206107,
                      null,
                      null,
                      null,
                      null,
                      null,
                      null,
                      null,
                      null,
                      null
                    ],
                    [
                      null,
                      null,
                      null,
                      null,
                      null,
                      null,
                      null,
                      null,
                      0.9324817518248175,
                      null,
                      null,
                      null,
                      null,
                      null,
                      null,
                      null
                    ],
                    [
                      null,
                      null,
                      null,
                      null,
                      null,
                      null,
                      null,
                      null,
                      null,
                      null,
                      0.9575572519083969,
                      null,
                      null,
                      null,
                      null,
                      null
                    ],
                    [
                      null,
                      null,
                      null,
                      null,
                      0.9481391092129348,
                      null,
                      null,
                      null,
                      null,
                      null,
                      null,
                      null,
                      null,
                      null,
                      null,
                      null
                    ],
                    [
                      null,
                      null,
                      null,
                      null,
                      null,
                      null,
                      null,
                      null,
                      null,
                      null,
                      null,
                      null,
                      null,
                      null,
                      0.9584605986560782,
                      null
                    ],
                    [
                      null,
                      null,
                      null,
                      null,
                      null,
                      null,
                      null,
                      null,
                      null,
                      null,
                      null,
                      0.9442583003350594,
                      null,
                      null,
                      null,
                      null
                    ],
                    [
                      null,
                      0.8873325213154689,
                      null,
                      null,
                      null,
                      null,
                      null,
                      null,
                      null,
                      null,
                      null,
                      null,
                      null,
                      null,
                      null,
                      null
                    ],
                    [
                      null,
                      null,
                      null,
                      null,
                      null,
                      null,
                      null,
                      null,
                      null,
                      null,
                      null,
                      null,
                      null,
                      0.9917203311867525,
                      null,
                      null
                    ],
                    [
                      null,
                      null,
                      null,
                      null,
                      null,
                      null,
                      null,
                      null,
                      null,
                      null,
                      null,
                      0.9908088235294118,
                      null,
                      null,
                      0.9917254060680355,
                      null
                    ],
                    [
                      null,
                      null,
                      null,
                      null,
                      null,
                      null,
                      null,
                      null,
                      null,
                      null,
                      null,
                      null,
                      null,
                      null,
                      null,
                      null
                    ]
                  ]
                },
                {
                  "marker": {
                    "color": "black",
                    "line": {
                      "color": "Gray",
                      "width": 2
                    }
                  },
                  "mode": "markers",
                  "name": "Feasible Trial",
                  "showlegend": false,
                  "type": "scatter",
                  "x": [
                    29,
                    10,
                    12,
                    15,
                    15,
                    30,
                    14,
                    16,
                    22,
                    12,
                    30,
                    29,
                    25,
                    26,
                    30,
                    20,
                    26,
                    23,
                    19,
                    28
                  ],
                  "y": [
                    122,
                    183,
                    122,
                    136,
                    170,
                    148,
                    141,
                    133,
                    157,
                    100,
                    198,
                    194,
                    161,
                    198,
                    172,
                    149,
                    181,
                    103,
                    150,
                    122
                  ]
                },
                {
                  "marker": {
                    "color": "#cccccc",
                    "line": {
                      "color": "Gray",
                      "width": 2
                    }
                  },
                  "mode": "markers",
                  "name": "Infeasible Trial",
                  "showlegend": false,
                  "type": "scatter",
                  "x": [],
                  "y": []
                }
              ],
              "layout": {
                "template": {
                  "data": {
                    "bar": [
                      {
                        "error_x": {
                          "color": "#2a3f5f"
                        },
                        "error_y": {
                          "color": "#2a3f5f"
                        },
                        "marker": {
                          "line": {
                            "color": "#E5ECF6",
                            "width": 0.5
                          },
                          "pattern": {
                            "fillmode": "overlay",
                            "size": 10,
                            "solidity": 0.2
                          }
                        },
                        "type": "bar"
                      }
                    ],
                    "barpolar": [
                      {
                        "marker": {
                          "line": {
                            "color": "#E5ECF6",
                            "width": 0.5
                          },
                          "pattern": {
                            "fillmode": "overlay",
                            "size": 10,
                            "solidity": 0.2
                          }
                        },
                        "type": "barpolar"
                      }
                    ],
                    "carpet": [
                      {
                        "aaxis": {
                          "endlinecolor": "#2a3f5f",
                          "gridcolor": "white",
                          "linecolor": "white",
                          "minorgridcolor": "white",
                          "startlinecolor": "#2a3f5f"
                        },
                        "baxis": {
                          "endlinecolor": "#2a3f5f",
                          "gridcolor": "white",
                          "linecolor": "white",
                          "minorgridcolor": "white",
                          "startlinecolor": "#2a3f5f"
                        },
                        "type": "carpet"
                      }
                    ],
                    "choropleth": [
                      {
                        "colorbar": {
                          "outlinewidth": 0,
                          "ticks": ""
                        },
                        "type": "choropleth"
                      }
                    ],
                    "contour": [
                      {
                        "colorbar": {
                          "outlinewidth": 0,
                          "ticks": ""
                        },
                        "colorscale": [
                          [
                            0,
                            "#0d0887"
                          ],
                          [
                            0.1111111111111111,
                            "#46039f"
                          ],
                          [
                            0.2222222222222222,
                            "#7201a8"
                          ],
                          [
                            0.3333333333333333,
                            "#9c179e"
                          ],
                          [
                            0.4444444444444444,
                            "#bd3786"
                          ],
                          [
                            0.5555555555555556,
                            "#d8576b"
                          ],
                          [
                            0.6666666666666666,
                            "#ed7953"
                          ],
                          [
                            0.7777777777777778,
                            "#fb9f3a"
                          ],
                          [
                            0.8888888888888888,
                            "#fdca26"
                          ],
                          [
                            1,
                            "#f0f921"
                          ]
                        ],
                        "type": "contour"
                      }
                    ],
                    "contourcarpet": [
                      {
                        "colorbar": {
                          "outlinewidth": 0,
                          "ticks": ""
                        },
                        "type": "contourcarpet"
                      }
                    ],
                    "heatmap": [
                      {
                        "colorbar": {
                          "outlinewidth": 0,
                          "ticks": ""
                        },
                        "colorscale": [
                          [
                            0,
                            "#0d0887"
                          ],
                          [
                            0.1111111111111111,
                            "#46039f"
                          ],
                          [
                            0.2222222222222222,
                            "#7201a8"
                          ],
                          [
                            0.3333333333333333,
                            "#9c179e"
                          ],
                          [
                            0.4444444444444444,
                            "#bd3786"
                          ],
                          [
                            0.5555555555555556,
                            "#d8576b"
                          ],
                          [
                            0.6666666666666666,
                            "#ed7953"
                          ],
                          [
                            0.7777777777777778,
                            "#fb9f3a"
                          ],
                          [
                            0.8888888888888888,
                            "#fdca26"
                          ],
                          [
                            1,
                            "#f0f921"
                          ]
                        ],
                        "type": "heatmap"
                      }
                    ],
                    "heatmapgl": [
                      {
                        "colorbar": {
                          "outlinewidth": 0,
                          "ticks": ""
                        },
                        "colorscale": [
                          [
                            0,
                            "#0d0887"
                          ],
                          [
                            0.1111111111111111,
                            "#46039f"
                          ],
                          [
                            0.2222222222222222,
                            "#7201a8"
                          ],
                          [
                            0.3333333333333333,
                            "#9c179e"
                          ],
                          [
                            0.4444444444444444,
                            "#bd3786"
                          ],
                          [
                            0.5555555555555556,
                            "#d8576b"
                          ],
                          [
                            0.6666666666666666,
                            "#ed7953"
                          ],
                          [
                            0.7777777777777778,
                            "#fb9f3a"
                          ],
                          [
                            0.8888888888888888,
                            "#fdca26"
                          ],
                          [
                            1,
                            "#f0f921"
                          ]
                        ],
                        "type": "heatmapgl"
                      }
                    ],
                    "histogram": [
                      {
                        "marker": {
                          "pattern": {
                            "fillmode": "overlay",
                            "size": 10,
                            "solidity": 0.2
                          }
                        },
                        "type": "histogram"
                      }
                    ],
                    "histogram2d": [
                      {
                        "colorbar": {
                          "outlinewidth": 0,
                          "ticks": ""
                        },
                        "colorscale": [
                          [
                            0,
                            "#0d0887"
                          ],
                          [
                            0.1111111111111111,
                            "#46039f"
                          ],
                          [
                            0.2222222222222222,
                            "#7201a8"
                          ],
                          [
                            0.3333333333333333,
                            "#9c179e"
                          ],
                          [
                            0.4444444444444444,
                            "#bd3786"
                          ],
                          [
                            0.5555555555555556,
                            "#d8576b"
                          ],
                          [
                            0.6666666666666666,
                            "#ed7953"
                          ],
                          [
                            0.7777777777777778,
                            "#fb9f3a"
                          ],
                          [
                            0.8888888888888888,
                            "#fdca26"
                          ],
                          [
                            1,
                            "#f0f921"
                          ]
                        ],
                        "type": "histogram2d"
                      }
                    ],
                    "histogram2dcontour": [
                      {
                        "colorbar": {
                          "outlinewidth": 0,
                          "ticks": ""
                        },
                        "colorscale": [
                          [
                            0,
                            "#0d0887"
                          ],
                          [
                            0.1111111111111111,
                            "#46039f"
                          ],
                          [
                            0.2222222222222222,
                            "#7201a8"
                          ],
                          [
                            0.3333333333333333,
                            "#9c179e"
                          ],
                          [
                            0.4444444444444444,
                            "#bd3786"
                          ],
                          [
                            0.5555555555555556,
                            "#d8576b"
                          ],
                          [
                            0.6666666666666666,
                            "#ed7953"
                          ],
                          [
                            0.7777777777777778,
                            "#fb9f3a"
                          ],
                          [
                            0.8888888888888888,
                            "#fdca26"
                          ],
                          [
                            1,
                            "#f0f921"
                          ]
                        ],
                        "type": "histogram2dcontour"
                      }
                    ],
                    "mesh3d": [
                      {
                        "colorbar": {
                          "outlinewidth": 0,
                          "ticks": ""
                        },
                        "type": "mesh3d"
                      }
                    ],
                    "parcoords": [
                      {
                        "line": {
                          "colorbar": {
                            "outlinewidth": 0,
                            "ticks": ""
                          }
                        },
                        "type": "parcoords"
                      }
                    ],
                    "pie": [
                      {
                        "automargin": true,
                        "type": "pie"
                      }
                    ],
                    "scatter": [
                      {
                        "fillpattern": {
                          "fillmode": "overlay",
                          "size": 10,
                          "solidity": 0.2
                        },
                        "type": "scatter"
                      }
                    ],
                    "scatter3d": [
                      {
                        "line": {
                          "colorbar": {
                            "outlinewidth": 0,
                            "ticks": ""
                          }
                        },
                        "marker": {
                          "colorbar": {
                            "outlinewidth": 0,
                            "ticks": ""
                          }
                        },
                        "type": "scatter3d"
                      }
                    ],
                    "scattercarpet": [
                      {
                        "marker": {
                          "colorbar": {
                            "outlinewidth": 0,
                            "ticks": ""
                          }
                        },
                        "type": "scattercarpet"
                      }
                    ],
                    "scattergeo": [
                      {
                        "marker": {
                          "colorbar": {
                            "outlinewidth": 0,
                            "ticks": ""
                          }
                        },
                        "type": "scattergeo"
                      }
                    ],
                    "scattergl": [
                      {
                        "marker": {
                          "colorbar": {
                            "outlinewidth": 0,
                            "ticks": ""
                          }
                        },
                        "type": "scattergl"
                      }
                    ],
                    "scattermapbox": [
                      {
                        "marker": {
                          "colorbar": {
                            "outlinewidth": 0,
                            "ticks": ""
                          }
                        },
                        "type": "scattermapbox"
                      }
                    ],
                    "scatterpolar": [
                      {
                        "marker": {
                          "colorbar": {
                            "outlinewidth": 0,
                            "ticks": ""
                          }
                        },
                        "type": "scatterpolar"
                      }
                    ],
                    "scatterpolargl": [
                      {
                        "marker": {
                          "colorbar": {
                            "outlinewidth": 0,
                            "ticks": ""
                          }
                        },
                        "type": "scatterpolargl"
                      }
                    ],
                    "scatterternary": [
                      {
                        "marker": {
                          "colorbar": {
                            "outlinewidth": 0,
                            "ticks": ""
                          }
                        },
                        "type": "scatterternary"
                      }
                    ],
                    "surface": [
                      {
                        "colorbar": {
                          "outlinewidth": 0,
                          "ticks": ""
                        },
                        "colorscale": [
                          [
                            0,
                            "#0d0887"
                          ],
                          [
                            0.1111111111111111,
                            "#46039f"
                          ],
                          [
                            0.2222222222222222,
                            "#7201a8"
                          ],
                          [
                            0.3333333333333333,
                            "#9c179e"
                          ],
                          [
                            0.4444444444444444,
                            "#bd3786"
                          ],
                          [
                            0.5555555555555556,
                            "#d8576b"
                          ],
                          [
                            0.6666666666666666,
                            "#ed7953"
                          ],
                          [
                            0.7777777777777778,
                            "#fb9f3a"
                          ],
                          [
                            0.8888888888888888,
                            "#fdca26"
                          ],
                          [
                            1,
                            "#f0f921"
                          ]
                        ],
                        "type": "surface"
                      }
                    ],
                    "table": [
                      {
                        "cells": {
                          "fill": {
                            "color": "#EBF0F8"
                          },
                          "line": {
                            "color": "white"
                          }
                        },
                        "header": {
                          "fill": {
                            "color": "#C8D4E3"
                          },
                          "line": {
                            "color": "white"
                          }
                        },
                        "type": "table"
                      }
                    ]
                  },
                  "layout": {
                    "annotationdefaults": {
                      "arrowcolor": "#2a3f5f",
                      "arrowhead": 0,
                      "arrowwidth": 1
                    },
                    "autotypenumbers": "strict",
                    "coloraxis": {
                      "colorbar": {
                        "outlinewidth": 0,
                        "ticks": ""
                      }
                    },
                    "colorscale": {
                      "diverging": [
                        [
                          0,
                          "#8e0152"
                        ],
                        [
                          0.1,
                          "#c51b7d"
                        ],
                        [
                          0.2,
                          "#de77ae"
                        ],
                        [
                          0.3,
                          "#f1b6da"
                        ],
                        [
                          0.4,
                          "#fde0ef"
                        ],
                        [
                          0.5,
                          "#f7f7f7"
                        ],
                        [
                          0.6,
                          "#e6f5d0"
                        ],
                        [
                          0.7,
                          "#b8e186"
                        ],
                        [
                          0.8,
                          "#7fbc41"
                        ],
                        [
                          0.9,
                          "#4d9221"
                        ],
                        [
                          1,
                          "#276419"
                        ]
                      ],
                      "sequential": [
                        [
                          0,
                          "#0d0887"
                        ],
                        [
                          0.1111111111111111,
                          "#46039f"
                        ],
                        [
                          0.2222222222222222,
                          "#7201a8"
                        ],
                        [
                          0.3333333333333333,
                          "#9c179e"
                        ],
                        [
                          0.4444444444444444,
                          "#bd3786"
                        ],
                        [
                          0.5555555555555556,
                          "#d8576b"
                        ],
                        [
                          0.6666666666666666,
                          "#ed7953"
                        ],
                        [
                          0.7777777777777778,
                          "#fb9f3a"
                        ],
                        [
                          0.8888888888888888,
                          "#fdca26"
                        ],
                        [
                          1,
                          "#f0f921"
                        ]
                      ],
                      "sequentialminus": [
                        [
                          0,
                          "#0d0887"
                        ],
                        [
                          0.1111111111111111,
                          "#46039f"
                        ],
                        [
                          0.2222222222222222,
                          "#7201a8"
                        ],
                        [
                          0.3333333333333333,
                          "#9c179e"
                        ],
                        [
                          0.4444444444444444,
                          "#bd3786"
                        ],
                        [
                          0.5555555555555556,
                          "#d8576b"
                        ],
                        [
                          0.6666666666666666,
                          "#ed7953"
                        ],
                        [
                          0.7777777777777778,
                          "#fb9f3a"
                        ],
                        [
                          0.8888888888888888,
                          "#fdca26"
                        ],
                        [
                          1,
                          "#f0f921"
                        ]
                      ]
                    },
                    "colorway": [
                      "#636efa",
                      "#EF553B",
                      "#00cc96",
                      "#ab63fa",
                      "#FFA15A",
                      "#19d3f3",
                      "#FF6692",
                      "#B6E880",
                      "#FF97FF",
                      "#FECB52"
                    ],
                    "font": {
                      "color": "#2a3f5f"
                    },
                    "geo": {
                      "bgcolor": "white",
                      "lakecolor": "white",
                      "landcolor": "#E5ECF6",
                      "showlakes": true,
                      "showland": true,
                      "subunitcolor": "white"
                    },
                    "hoverlabel": {
                      "align": "left"
                    },
                    "hovermode": "closest",
                    "mapbox": {
                      "style": "light"
                    },
                    "paper_bgcolor": "white",
                    "plot_bgcolor": "#E5ECF6",
                    "polar": {
                      "angularaxis": {
                        "gridcolor": "white",
                        "linecolor": "white",
                        "ticks": ""
                      },
                      "bgcolor": "#E5ECF6",
                      "radialaxis": {
                        "gridcolor": "white",
                        "linecolor": "white",
                        "ticks": ""
                      }
                    },
                    "scene": {
                      "xaxis": {
                        "backgroundcolor": "#E5ECF6",
                        "gridcolor": "white",
                        "gridwidth": 2,
                        "linecolor": "white",
                        "showbackground": true,
                        "ticks": "",
                        "zerolinecolor": "white"
                      },
                      "yaxis": {
                        "backgroundcolor": "#E5ECF6",
                        "gridcolor": "white",
                        "gridwidth": 2,
                        "linecolor": "white",
                        "showbackground": true,
                        "ticks": "",
                        "zerolinecolor": "white"
                      },
                      "zaxis": {
                        "backgroundcolor": "#E5ECF6",
                        "gridcolor": "white",
                        "gridwidth": 2,
                        "linecolor": "white",
                        "showbackground": true,
                        "ticks": "",
                        "zerolinecolor": "white"
                      }
                    },
                    "shapedefaults": {
                      "line": {
                        "color": "#2a3f5f"
                      }
                    },
                    "ternary": {
                      "aaxis": {
                        "gridcolor": "white",
                        "linecolor": "white",
                        "ticks": ""
                      },
                      "baxis": {
                        "gridcolor": "white",
                        "linecolor": "white",
                        "ticks": ""
                      },
                      "bgcolor": "#E5ECF6",
                      "caxis": {
                        "gridcolor": "white",
                        "linecolor": "white",
                        "ticks": ""
                      }
                    },
                    "title": {
                      "x": 0.05
                    },
                    "xaxis": {
                      "automargin": true,
                      "gridcolor": "white",
                      "linecolor": "white",
                      "ticks": "",
                      "title": {
                        "standoff": 15
                      },
                      "zerolinecolor": "white",
                      "zerolinewidth": 2
                    },
                    "yaxis": {
                      "automargin": true,
                      "gridcolor": "white",
                      "linecolor": "white",
                      "ticks": "",
                      "title": {
                        "standoff": 15
                      },
                      "zerolinecolor": "white",
                      "zerolinewidth": 2
                    }
                  }
                },
                "title": {
                  "text": "Contour Plot"
                },
                "xaxis": {
                  "range": [
                    9,
                    31
                  ],
                  "title": {
                    "text": "max_depth"
                  }
                },
                "yaxis": {
                  "range": [
                    95.1,
                    202.9
                  ],
                  "title": {
                    "text": "n_estimators"
                  }
                }
              }
            }
          },
          "metadata": {},
          "output_type": "display_data"
        }
      ],
      "source": [
        "optuna.visualization.plot_contour(study, params = ['max_depth', 'n_estimators'], target_name = 'f1_score')"
      ]
    },
    {
      "cell_type": "markdown",
      "metadata": {
        "id": "O8JPS3rARinp"
      },
      "source": [
        "По графику видно, что точки с темно-синим фоном, то есть с высоким f1-score находятся в близи значений n_estimators = 200 и max_depth = 21."
      ]
    }
  ],
  "metadata": {
    "colab": {
      "provenance": []
    },
    "kernelspec": {
      "display_name": "Python 3",
      "name": "python3"
    },
    "language_info": {
      "codemirror_mode": {
        "name": "ipython",
        "version": 3
      },
      "file_extension": ".py",
      "mimetype": "text/x-python",
      "name": "python",
      "nbconvert_exporter": "python",
      "pygments_lexer": "ipython3",
      "version": "3.9.0"
    }
  },
  "nbformat": 4,
  "nbformat_minor": 0
}
